{
  "cells": [
    {
      "cell_type": "code",
      "execution_count": null,
      "metadata": {
        "colab": {
          "base_uri": "https://localhost:8080/"
        },
        "id": "VGNHSqa1TnTA",
        "outputId": "d3fab1b5-6a06-4354-ef6b-427210e9a2f7"
      },
      "outputs": [
        {
          "output_type": "stream",
          "name": "stdout",
          "text": [
            "Drive already mounted at /content/drive/; to attempt to forcibly remount, call drive.mount(\"/content/drive/\", force_remount=True).\n"
          ]
        }
      ],
      "source": [
        "from google.colab import drive\n",
        "drive.mount('/content/drive/')"
      ]
    },
    {
      "cell_type": "code",
      "execution_count": null,
      "metadata": {
        "id": "ChSlKDzdVbuX"
      },
      "outputs": [],
      "source": [
        "import pandas as pd"
      ]
    },
    {
      "cell_type": "code",
      "execution_count": null,
      "metadata": {
        "id": "NHnDhF3lVreJ"
      },
      "outputs": [],
      "source": [
        "df=pd.read_csv('/content/drive/MyDrive/Colab Notebooks/Airline_review.csv')"
      ]
    },
    {
      "cell_type": "code",
      "execution_count": null,
      "metadata": {
        "colab": {
          "base_uri": "https://localhost:8080/",
          "height": 695
        },
        "id": "M39haDgGXJHF",
        "outputId": "a2f90d31-5def-42d5-f8f8-b9cd276585fe"
      },
      "outputs": [
        {
          "output_type": "execute_result",
          "data": {
            "text/plain": [
              "   Unnamed: 0   Airline Name Overall_Rating  \\\n",
              "0           0    AB Aviation              9   \n",
              "1           1    AB Aviation              1   \n",
              "2           2    AB Aviation              1   \n",
              "3           3  Adria Airways              1   \n",
              "4           4  Adria Airways              1   \n",
              "\n",
              "                            Review_Title          Review Date  Verified  \\\n",
              "0                \"pretty decent airline\"   11th November 2019      True   \n",
              "1                   \"Not a good airline\"       25th June 2019      True   \n",
              "2         \"flight was fortunately short\"       25th June 2019      True   \n",
              "3    \"I will never fly again with Adria\"  28th September 2019     False   \n",
              "4  \"it ruined our last days of holidays\"  24th September 2019      True   \n",
              "\n",
              "                                              Review       Aircraft  \\\n",
              "0    Moroni to Moheli. Turned out to be a pretty ...            NaN   \n",
              "1   Moroni to Anjouan. It is a very small airline...           E120   \n",
              "2    Anjouan to Dzaoudzi. A very small airline an...  Embraer E120    \n",
              "3    Please do a favor yourself and do not fly wi...            NaN   \n",
              "4   Do not book a flight with this airline! My fr...            NaN   \n",
              "\n",
              "  Type Of Traveller      Seat Type                             Route  \\\n",
              "0      Solo Leisure  Economy Class                  Moroni to Moheli   \n",
              "1      Solo Leisure  Economy Class                 Moroni to Anjouan   \n",
              "2      Solo Leisure  Economy Class               Anjouan to Dzaoudzi   \n",
              "3      Solo Leisure  Economy Class             Frankfurt to Pristina   \n",
              "4    Couple Leisure  Economy Class  Sofia to Amsterdam via Ljubljana   \n",
              "\n",
              "       Date Flown  Seat Comfort  Cabin Staff Service  Food & Beverages  \\\n",
              "0   November 2019           4.0                  5.0               4.0   \n",
              "1       June 2019           2.0                  2.0               1.0   \n",
              "2       June 2019           2.0                  1.0               1.0   \n",
              "3  September 2019           1.0                  1.0               NaN   \n",
              "4  September 2019           1.0                  1.0               1.0   \n",
              "\n",
              "   Ground Service  Inflight Entertainment  Wifi & Connectivity  \\\n",
              "0             4.0                     NaN                  NaN   \n",
              "1             1.0                     NaN                  NaN   \n",
              "2             1.0                     NaN                  NaN   \n",
              "3             1.0                     NaN                  NaN   \n",
              "4             1.0                     1.0                  1.0   \n",
              "\n",
              "   Value For Money Recommended  \n",
              "0              3.0         yes  \n",
              "1              2.0          no  \n",
              "2              2.0          no  \n",
              "3              1.0          no  \n",
              "4              1.0          no  "
            ],
            "text/html": [
              "\n",
              "  <div id=\"df-a01d9947-8c54-4bd4-bdf8-5785c420c080\" class=\"colab-df-container\">\n",
              "    <div>\n",
              "<style scoped>\n",
              "    .dataframe tbody tr th:only-of-type {\n",
              "        vertical-align: middle;\n",
              "    }\n",
              "\n",
              "    .dataframe tbody tr th {\n",
              "        vertical-align: top;\n",
              "    }\n",
              "\n",
              "    .dataframe thead th {\n",
              "        text-align: right;\n",
              "    }\n",
              "</style>\n",
              "<table border=\"1\" class=\"dataframe\">\n",
              "  <thead>\n",
              "    <tr style=\"text-align: right;\">\n",
              "      <th></th>\n",
              "      <th>Unnamed: 0</th>\n",
              "      <th>Airline Name</th>\n",
              "      <th>Overall_Rating</th>\n",
              "      <th>Review_Title</th>\n",
              "      <th>Review Date</th>\n",
              "      <th>Verified</th>\n",
              "      <th>Review</th>\n",
              "      <th>Aircraft</th>\n",
              "      <th>Type Of Traveller</th>\n",
              "      <th>Seat Type</th>\n",
              "      <th>Route</th>\n",
              "      <th>Date Flown</th>\n",
              "      <th>Seat Comfort</th>\n",
              "      <th>Cabin Staff Service</th>\n",
              "      <th>Food &amp; Beverages</th>\n",
              "      <th>Ground Service</th>\n",
              "      <th>Inflight Entertainment</th>\n",
              "      <th>Wifi &amp; Connectivity</th>\n",
              "      <th>Value For Money</th>\n",
              "      <th>Recommended</th>\n",
              "    </tr>\n",
              "  </thead>\n",
              "  <tbody>\n",
              "    <tr>\n",
              "      <th>0</th>\n",
              "      <td>0</td>\n",
              "      <td>AB Aviation</td>\n",
              "      <td>9</td>\n",
              "      <td>\"pretty decent airline\"</td>\n",
              "      <td>11th November 2019</td>\n",
              "      <td>True</td>\n",
              "      <td>Moroni to Moheli. Turned out to be a pretty ...</td>\n",
              "      <td>NaN</td>\n",
              "      <td>Solo Leisure</td>\n",
              "      <td>Economy Class</td>\n",
              "      <td>Moroni to Moheli</td>\n",
              "      <td>November 2019</td>\n",
              "      <td>4.0</td>\n",
              "      <td>5.0</td>\n",
              "      <td>4.0</td>\n",
              "      <td>4.0</td>\n",
              "      <td>NaN</td>\n",
              "      <td>NaN</td>\n",
              "      <td>3.0</td>\n",
              "      <td>yes</td>\n",
              "    </tr>\n",
              "    <tr>\n",
              "      <th>1</th>\n",
              "      <td>1</td>\n",
              "      <td>AB Aviation</td>\n",
              "      <td>1</td>\n",
              "      <td>\"Not a good airline\"</td>\n",
              "      <td>25th June 2019</td>\n",
              "      <td>True</td>\n",
              "      <td>Moroni to Anjouan. It is a very small airline...</td>\n",
              "      <td>E120</td>\n",
              "      <td>Solo Leisure</td>\n",
              "      <td>Economy Class</td>\n",
              "      <td>Moroni to Anjouan</td>\n",
              "      <td>June 2019</td>\n",
              "      <td>2.0</td>\n",
              "      <td>2.0</td>\n",
              "      <td>1.0</td>\n",
              "      <td>1.0</td>\n",
              "      <td>NaN</td>\n",
              "      <td>NaN</td>\n",
              "      <td>2.0</td>\n",
              "      <td>no</td>\n",
              "    </tr>\n",
              "    <tr>\n",
              "      <th>2</th>\n",
              "      <td>2</td>\n",
              "      <td>AB Aviation</td>\n",
              "      <td>1</td>\n",
              "      <td>\"flight was fortunately short\"</td>\n",
              "      <td>25th June 2019</td>\n",
              "      <td>True</td>\n",
              "      <td>Anjouan to Dzaoudzi. A very small airline an...</td>\n",
              "      <td>Embraer E120</td>\n",
              "      <td>Solo Leisure</td>\n",
              "      <td>Economy Class</td>\n",
              "      <td>Anjouan to Dzaoudzi</td>\n",
              "      <td>June 2019</td>\n",
              "      <td>2.0</td>\n",
              "      <td>1.0</td>\n",
              "      <td>1.0</td>\n",
              "      <td>1.0</td>\n",
              "      <td>NaN</td>\n",
              "      <td>NaN</td>\n",
              "      <td>2.0</td>\n",
              "      <td>no</td>\n",
              "    </tr>\n",
              "    <tr>\n",
              "      <th>3</th>\n",
              "      <td>3</td>\n",
              "      <td>Adria Airways</td>\n",
              "      <td>1</td>\n",
              "      <td>\"I will never fly again with Adria\"</td>\n",
              "      <td>28th September 2019</td>\n",
              "      <td>False</td>\n",
              "      <td>Please do a favor yourself and do not fly wi...</td>\n",
              "      <td>NaN</td>\n",
              "      <td>Solo Leisure</td>\n",
              "      <td>Economy Class</td>\n",
              "      <td>Frankfurt to Pristina</td>\n",
              "      <td>September 2019</td>\n",
              "      <td>1.0</td>\n",
              "      <td>1.0</td>\n",
              "      <td>NaN</td>\n",
              "      <td>1.0</td>\n",
              "      <td>NaN</td>\n",
              "      <td>NaN</td>\n",
              "      <td>1.0</td>\n",
              "      <td>no</td>\n",
              "    </tr>\n",
              "    <tr>\n",
              "      <th>4</th>\n",
              "      <td>4</td>\n",
              "      <td>Adria Airways</td>\n",
              "      <td>1</td>\n",
              "      <td>\"it ruined our last days of holidays\"</td>\n",
              "      <td>24th September 2019</td>\n",
              "      <td>True</td>\n",
              "      <td>Do not book a flight with this airline! My fr...</td>\n",
              "      <td>NaN</td>\n",
              "      <td>Couple Leisure</td>\n",
              "      <td>Economy Class</td>\n",
              "      <td>Sofia to Amsterdam via Ljubljana</td>\n",
              "      <td>September 2019</td>\n",
              "      <td>1.0</td>\n",
              "      <td>1.0</td>\n",
              "      <td>1.0</td>\n",
              "      <td>1.0</td>\n",
              "      <td>1.0</td>\n",
              "      <td>1.0</td>\n",
              "      <td>1.0</td>\n",
              "      <td>no</td>\n",
              "    </tr>\n",
              "  </tbody>\n",
              "</table>\n",
              "</div>\n",
              "    <div class=\"colab-df-buttons\">\n",
              "\n",
              "  <div class=\"colab-df-container\">\n",
              "    <button class=\"colab-df-convert\" onclick=\"convertToInteractive('df-a01d9947-8c54-4bd4-bdf8-5785c420c080')\"\n",
              "            title=\"Convert this dataframe to an interactive table.\"\n",
              "            style=\"display:none;\">\n",
              "\n",
              "  <svg xmlns=\"http://www.w3.org/2000/svg\" height=\"24px\" viewBox=\"0 -960 960 960\">\n",
              "    <path d=\"M120-120v-720h720v720H120Zm60-500h600v-160H180v160Zm220 220h160v-160H400v160Zm0 220h160v-160H400v160ZM180-400h160v-160H180v160Zm440 0h160v-160H620v160ZM180-180h160v-160H180v160Zm440 0h160v-160H620v160Z\"/>\n",
              "  </svg>\n",
              "    </button>\n",
              "\n",
              "  <style>\n",
              "    .colab-df-container {\n",
              "      display:flex;\n",
              "      gap: 12px;\n",
              "    }\n",
              "\n",
              "    .colab-df-convert {\n",
              "      background-color: #E8F0FE;\n",
              "      border: none;\n",
              "      border-radius: 50%;\n",
              "      cursor: pointer;\n",
              "      display: none;\n",
              "      fill: #1967D2;\n",
              "      height: 32px;\n",
              "      padding: 0 0 0 0;\n",
              "      width: 32px;\n",
              "    }\n",
              "\n",
              "    .colab-df-convert:hover {\n",
              "      background-color: #E2EBFA;\n",
              "      box-shadow: 0px 1px 2px rgba(60, 64, 67, 0.3), 0px 1px 3px 1px rgba(60, 64, 67, 0.15);\n",
              "      fill: #174EA6;\n",
              "    }\n",
              "\n",
              "    .colab-df-buttons div {\n",
              "      margin-bottom: 4px;\n",
              "    }\n",
              "\n",
              "    [theme=dark] .colab-df-convert {\n",
              "      background-color: #3B4455;\n",
              "      fill: #D2E3FC;\n",
              "    }\n",
              "\n",
              "    [theme=dark] .colab-df-convert:hover {\n",
              "      background-color: #434B5C;\n",
              "      box-shadow: 0px 1px 3px 1px rgba(0, 0, 0, 0.15);\n",
              "      filter: drop-shadow(0px 1px 2px rgba(0, 0, 0, 0.3));\n",
              "      fill: #FFFFFF;\n",
              "    }\n",
              "  </style>\n",
              "\n",
              "    <script>\n",
              "      const buttonEl =\n",
              "        document.querySelector('#df-a01d9947-8c54-4bd4-bdf8-5785c420c080 button.colab-df-convert');\n",
              "      buttonEl.style.display =\n",
              "        google.colab.kernel.accessAllowed ? 'block' : 'none';\n",
              "\n",
              "      async function convertToInteractive(key) {\n",
              "        const element = document.querySelector('#df-a01d9947-8c54-4bd4-bdf8-5785c420c080');\n",
              "        const dataTable =\n",
              "          await google.colab.kernel.invokeFunction('convertToInteractive',\n",
              "                                                    [key], {});\n",
              "        if (!dataTable) return;\n",
              "\n",
              "        const docLinkHtml = 'Like what you see? Visit the ' +\n",
              "          '<a target=\"_blank\" href=https://colab.research.google.com/notebooks/data_table.ipynb>data table notebook</a>'\n",
              "          + ' to learn more about interactive tables.';\n",
              "        element.innerHTML = '';\n",
              "        dataTable['output_type'] = 'display_data';\n",
              "        await google.colab.output.renderOutput(dataTable, element);\n",
              "        const docLink = document.createElement('div');\n",
              "        docLink.innerHTML = docLinkHtml;\n",
              "        element.appendChild(docLink);\n",
              "      }\n",
              "    </script>\n",
              "  </div>\n",
              "\n",
              "\n",
              "<div id=\"df-c7b08fbc-d99f-4fbe-ac10-901801fe2c26\">\n",
              "  <button class=\"colab-df-quickchart\" onclick=\"quickchart('df-c7b08fbc-d99f-4fbe-ac10-901801fe2c26')\"\n",
              "            title=\"Suggest charts.\"\n",
              "            style=\"display:none;\">\n",
              "\n",
              "<svg xmlns=\"http://www.w3.org/2000/svg\" height=\"24px\"viewBox=\"0 0 24 24\"\n",
              "     width=\"24px\">\n",
              "    <g>\n",
              "        <path d=\"M19 3H5c-1.1 0-2 .9-2 2v14c0 1.1.9 2 2 2h14c1.1 0 2-.9 2-2V5c0-1.1-.9-2-2-2zM9 17H7v-7h2v7zm4 0h-2V7h2v10zm4 0h-2v-4h2v4z\"/>\n",
              "    </g>\n",
              "</svg>\n",
              "  </button>\n",
              "\n",
              "<style>\n",
              "  .colab-df-quickchart {\n",
              "      --bg-color: #E8F0FE;\n",
              "      --fill-color: #1967D2;\n",
              "      --hover-bg-color: #E2EBFA;\n",
              "      --hover-fill-color: #174EA6;\n",
              "      --disabled-fill-color: #AAA;\n",
              "      --disabled-bg-color: #DDD;\n",
              "  }\n",
              "\n",
              "  [theme=dark] .colab-df-quickchart {\n",
              "      --bg-color: #3B4455;\n",
              "      --fill-color: #D2E3FC;\n",
              "      --hover-bg-color: #434B5C;\n",
              "      --hover-fill-color: #FFFFFF;\n",
              "      --disabled-bg-color: #3B4455;\n",
              "      --disabled-fill-color: #666;\n",
              "  }\n",
              "\n",
              "  .colab-df-quickchart {\n",
              "    background-color: var(--bg-color);\n",
              "    border: none;\n",
              "    border-radius: 50%;\n",
              "    cursor: pointer;\n",
              "    display: none;\n",
              "    fill: var(--fill-color);\n",
              "    height: 32px;\n",
              "    padding: 0;\n",
              "    width: 32px;\n",
              "  }\n",
              "\n",
              "  .colab-df-quickchart:hover {\n",
              "    background-color: var(--hover-bg-color);\n",
              "    box-shadow: 0 1px 2px rgba(60, 64, 67, 0.3), 0 1px 3px 1px rgba(60, 64, 67, 0.15);\n",
              "    fill: var(--button-hover-fill-color);\n",
              "  }\n",
              "\n",
              "  .colab-df-quickchart-complete:disabled,\n",
              "  .colab-df-quickchart-complete:disabled:hover {\n",
              "    background-color: var(--disabled-bg-color);\n",
              "    fill: var(--disabled-fill-color);\n",
              "    box-shadow: none;\n",
              "  }\n",
              "\n",
              "  .colab-df-spinner {\n",
              "    border: 2px solid var(--fill-color);\n",
              "    border-color: transparent;\n",
              "    border-bottom-color: var(--fill-color);\n",
              "    animation:\n",
              "      spin 1s steps(1) infinite;\n",
              "  }\n",
              "\n",
              "  @keyframes spin {\n",
              "    0% {\n",
              "      border-color: transparent;\n",
              "      border-bottom-color: var(--fill-color);\n",
              "      border-left-color: var(--fill-color);\n",
              "    }\n",
              "    20% {\n",
              "      border-color: transparent;\n",
              "      border-left-color: var(--fill-color);\n",
              "      border-top-color: var(--fill-color);\n",
              "    }\n",
              "    30% {\n",
              "      border-color: transparent;\n",
              "      border-left-color: var(--fill-color);\n",
              "      border-top-color: var(--fill-color);\n",
              "      border-right-color: var(--fill-color);\n",
              "    }\n",
              "    40% {\n",
              "      border-color: transparent;\n",
              "      border-right-color: var(--fill-color);\n",
              "      border-top-color: var(--fill-color);\n",
              "    }\n",
              "    60% {\n",
              "      border-color: transparent;\n",
              "      border-right-color: var(--fill-color);\n",
              "    }\n",
              "    80% {\n",
              "      border-color: transparent;\n",
              "      border-right-color: var(--fill-color);\n",
              "      border-bottom-color: var(--fill-color);\n",
              "    }\n",
              "    90% {\n",
              "      border-color: transparent;\n",
              "      border-bottom-color: var(--fill-color);\n",
              "    }\n",
              "  }\n",
              "</style>\n",
              "\n",
              "  <script>\n",
              "    async function quickchart(key) {\n",
              "      const quickchartButtonEl =\n",
              "        document.querySelector('#' + key + ' button');\n",
              "      quickchartButtonEl.disabled = true;  // To prevent multiple clicks.\n",
              "      quickchartButtonEl.classList.add('colab-df-spinner');\n",
              "      try {\n",
              "        const charts = await google.colab.kernel.invokeFunction(\n",
              "            'suggestCharts', [key], {});\n",
              "      } catch (error) {\n",
              "        console.error('Error during call to suggestCharts:', error);\n",
              "      }\n",
              "      quickchartButtonEl.classList.remove('colab-df-spinner');\n",
              "      quickchartButtonEl.classList.add('colab-df-quickchart-complete');\n",
              "    }\n",
              "    (() => {\n",
              "      let quickchartButtonEl =\n",
              "        document.querySelector('#df-c7b08fbc-d99f-4fbe-ac10-901801fe2c26 button');\n",
              "      quickchartButtonEl.style.display =\n",
              "        google.colab.kernel.accessAllowed ? 'block' : 'none';\n",
              "    })();\n",
              "  </script>\n",
              "</div>\n",
              "    </div>\n",
              "  </div>\n"
            ]
          },
          "metadata": {},
          "execution_count": 8
        }
      ],
      "source": [
        "df.head()"
      ]
    },
    {
      "cell_type": "code",
      "execution_count": null,
      "metadata": {
        "colab": {
          "base_uri": "https://localhost:8080/"
        },
        "id": "Py41U9nWXKN2",
        "outputId": "f99f5f69-c1f8-45c6-8c4c-12115f8e7f4b"
      },
      "outputs": [
        {
          "output_type": "stream",
          "name": "stdout",
          "text": [
            "<class 'pandas.core.frame.DataFrame'>\n",
            "RangeIndex: 23171 entries, 0 to 23170\n",
            "Data columns (total 20 columns):\n",
            " #   Column                  Non-Null Count  Dtype  \n",
            "---  ------                  --------------  -----  \n",
            " 0   Unnamed: 0              23171 non-null  int64  \n",
            " 1   Airline Name            23171 non-null  object \n",
            " 2   Overall_Rating          23171 non-null  object \n",
            " 3   Review_Title            23171 non-null  object \n",
            " 4   Review Date             23171 non-null  object \n",
            " 5   Verified                23171 non-null  bool   \n",
            " 6   Review                  23171 non-null  object \n",
            " 7   Aircraft                7129 non-null   object \n",
            " 8   Type Of Traveller       19433 non-null  object \n",
            " 9   Seat Type               22075 non-null  object \n",
            " 10  Route                   19343 non-null  object \n",
            " 11  Date Flown              19417 non-null  object \n",
            " 12  Seat Comfort            19016 non-null  float64\n",
            " 13  Cabin Staff Service     18911 non-null  float64\n",
            " 14  Food & Beverages        14500 non-null  float64\n",
            " 15  Ground Service          18378 non-null  float64\n",
            " 16  Inflight Entertainment  10829 non-null  float64\n",
            " 17  Wifi & Connectivity     5920 non-null   float64\n",
            " 18  Value For Money         22105 non-null  float64\n",
            " 19  Recommended             23171 non-null  object \n",
            "dtypes: bool(1), float64(7), int64(1), object(11)\n",
            "memory usage: 3.4+ MB\n"
          ]
        }
      ],
      "source": [
        "df.info()"
      ]
    },
    {
      "cell_type": "code",
      "execution_count": null,
      "metadata": {
        "colab": {
          "base_uri": "https://localhost:8080/"
        },
        "id": "xTF99l-8Xqog",
        "outputId": "52e79a00-3a33-4c23-e7b1-0af710b27b55"
      },
      "outputs": [
        {
          "output_type": "execute_result",
          "data": {
            "text/plain": [
              "Unnamed: 0                    0\n",
              "Airline Name                  0\n",
              "Overall_Rating                0\n",
              "Review_Title                  0\n",
              "Review Date                   0\n",
              "Verified                      0\n",
              "Review                        0\n",
              "Aircraft                  16042\n",
              "Type Of Traveller          3738\n",
              "Seat Type                  1096\n",
              "Route                      3828\n",
              "Date Flown                 3754\n",
              "Seat Comfort               4155\n",
              "Cabin Staff Service        4260\n",
              "Food & Beverages           8671\n",
              "Ground Service             4793\n",
              "Inflight Entertainment    12342\n",
              "Wifi & Connectivity       17251\n",
              "Value For Money            1066\n",
              "Recommended                   0\n",
              "dtype: int64"
            ]
          },
          "metadata": {},
          "execution_count": 10
        }
      ],
      "source": [
        "df.isna().sum()"
      ]
    },
    {
      "cell_type": "code",
      "execution_count": null,
      "metadata": {
        "colab": {
          "base_uri": "https://localhost:8080/",
          "height": 300
        },
        "id": "O9Il1USuXviG",
        "outputId": "c12a4912-056a-445a-d665-00eca6c09402"
      },
      "outputs": [
        {
          "output_type": "execute_result",
          "data": {
            "text/plain": [
              "        Unnamed: 0  Seat Comfort  Cabin Staff Service  Food & Beverages  \\\n",
              "count  23171.00000  19016.000000         18911.000000      14500.000000   \n",
              "mean   11585.00000      2.618374             2.871609          2.553586   \n",
              "std     6689.03588      1.464840             1.604631          1.526314   \n",
              "min        0.00000      0.000000             0.000000          0.000000   \n",
              "25%     5792.50000      1.000000             1.000000          1.000000   \n",
              "50%    11585.00000      3.000000             3.000000          2.000000   \n",
              "75%    17377.50000      4.000000             4.000000          4.000000   \n",
              "max    23170.00000      5.000000             5.000000          5.000000   \n",
              "\n",
              "       Ground Service  Inflight Entertainment  Wifi & Connectivity  \\\n",
              "count    18378.000000            10829.000000          5920.000000   \n",
              "mean         2.353738                2.179056             1.780405   \n",
              "std          1.595747                1.488839             1.318800   \n",
              "min          1.000000                0.000000             0.000000   \n",
              "25%          1.000000                1.000000             1.000000   \n",
              "50%          1.000000                2.000000             1.000000   \n",
              "75%          4.000000                3.000000             2.000000   \n",
              "max          5.000000                5.000000             5.000000   \n",
              "\n",
              "       Value For Money  \n",
              "count     22105.000000  \n",
              "mean          2.451165  \n",
              "std           1.594155  \n",
              "min           0.000000  \n",
              "25%           1.000000  \n",
              "50%           2.000000  \n",
              "75%           4.000000  \n",
              "max           5.000000  "
            ],
            "text/html": [
              "\n",
              "  <div id=\"df-452725f0-9884-42f0-aab0-4903cd7f6f3c\" class=\"colab-df-container\">\n",
              "    <div>\n",
              "<style scoped>\n",
              "    .dataframe tbody tr th:only-of-type {\n",
              "        vertical-align: middle;\n",
              "    }\n",
              "\n",
              "    .dataframe tbody tr th {\n",
              "        vertical-align: top;\n",
              "    }\n",
              "\n",
              "    .dataframe thead th {\n",
              "        text-align: right;\n",
              "    }\n",
              "</style>\n",
              "<table border=\"1\" class=\"dataframe\">\n",
              "  <thead>\n",
              "    <tr style=\"text-align: right;\">\n",
              "      <th></th>\n",
              "      <th>Unnamed: 0</th>\n",
              "      <th>Seat Comfort</th>\n",
              "      <th>Cabin Staff Service</th>\n",
              "      <th>Food &amp; Beverages</th>\n",
              "      <th>Ground Service</th>\n",
              "      <th>Inflight Entertainment</th>\n",
              "      <th>Wifi &amp; Connectivity</th>\n",
              "      <th>Value For Money</th>\n",
              "    </tr>\n",
              "  </thead>\n",
              "  <tbody>\n",
              "    <tr>\n",
              "      <th>count</th>\n",
              "      <td>23171.00000</td>\n",
              "      <td>19016.000000</td>\n",
              "      <td>18911.000000</td>\n",
              "      <td>14500.000000</td>\n",
              "      <td>18378.000000</td>\n",
              "      <td>10829.000000</td>\n",
              "      <td>5920.000000</td>\n",
              "      <td>22105.000000</td>\n",
              "    </tr>\n",
              "    <tr>\n",
              "      <th>mean</th>\n",
              "      <td>11585.00000</td>\n",
              "      <td>2.618374</td>\n",
              "      <td>2.871609</td>\n",
              "      <td>2.553586</td>\n",
              "      <td>2.353738</td>\n",
              "      <td>2.179056</td>\n",
              "      <td>1.780405</td>\n",
              "      <td>2.451165</td>\n",
              "    </tr>\n",
              "    <tr>\n",
              "      <th>std</th>\n",
              "      <td>6689.03588</td>\n",
              "      <td>1.464840</td>\n",
              "      <td>1.604631</td>\n",
              "      <td>1.526314</td>\n",
              "      <td>1.595747</td>\n",
              "      <td>1.488839</td>\n",
              "      <td>1.318800</td>\n",
              "      <td>1.594155</td>\n",
              "    </tr>\n",
              "    <tr>\n",
              "      <th>min</th>\n",
              "      <td>0.00000</td>\n",
              "      <td>0.000000</td>\n",
              "      <td>0.000000</td>\n",
              "      <td>0.000000</td>\n",
              "      <td>1.000000</td>\n",
              "      <td>0.000000</td>\n",
              "      <td>0.000000</td>\n",
              "      <td>0.000000</td>\n",
              "    </tr>\n",
              "    <tr>\n",
              "      <th>25%</th>\n",
              "      <td>5792.50000</td>\n",
              "      <td>1.000000</td>\n",
              "      <td>1.000000</td>\n",
              "      <td>1.000000</td>\n",
              "      <td>1.000000</td>\n",
              "      <td>1.000000</td>\n",
              "      <td>1.000000</td>\n",
              "      <td>1.000000</td>\n",
              "    </tr>\n",
              "    <tr>\n",
              "      <th>50%</th>\n",
              "      <td>11585.00000</td>\n",
              "      <td>3.000000</td>\n",
              "      <td>3.000000</td>\n",
              "      <td>2.000000</td>\n",
              "      <td>1.000000</td>\n",
              "      <td>2.000000</td>\n",
              "      <td>1.000000</td>\n",
              "      <td>2.000000</td>\n",
              "    </tr>\n",
              "    <tr>\n",
              "      <th>75%</th>\n",
              "      <td>17377.50000</td>\n",
              "      <td>4.000000</td>\n",
              "      <td>4.000000</td>\n",
              "      <td>4.000000</td>\n",
              "      <td>4.000000</td>\n",
              "      <td>3.000000</td>\n",
              "      <td>2.000000</td>\n",
              "      <td>4.000000</td>\n",
              "    </tr>\n",
              "    <tr>\n",
              "      <th>max</th>\n",
              "      <td>23170.00000</td>\n",
              "      <td>5.000000</td>\n",
              "      <td>5.000000</td>\n",
              "      <td>5.000000</td>\n",
              "      <td>5.000000</td>\n",
              "      <td>5.000000</td>\n",
              "      <td>5.000000</td>\n",
              "      <td>5.000000</td>\n",
              "    </tr>\n",
              "  </tbody>\n",
              "</table>\n",
              "</div>\n",
              "    <div class=\"colab-df-buttons\">\n",
              "\n",
              "  <div class=\"colab-df-container\">\n",
              "    <button class=\"colab-df-convert\" onclick=\"convertToInteractive('df-452725f0-9884-42f0-aab0-4903cd7f6f3c')\"\n",
              "            title=\"Convert this dataframe to an interactive table.\"\n",
              "            style=\"display:none;\">\n",
              "\n",
              "  <svg xmlns=\"http://www.w3.org/2000/svg\" height=\"24px\" viewBox=\"0 -960 960 960\">\n",
              "    <path d=\"M120-120v-720h720v720H120Zm60-500h600v-160H180v160Zm220 220h160v-160H400v160Zm0 220h160v-160H400v160ZM180-400h160v-160H180v160Zm440 0h160v-160H620v160ZM180-180h160v-160H180v160Zm440 0h160v-160H620v160Z\"/>\n",
              "  </svg>\n",
              "    </button>\n",
              "\n",
              "  <style>\n",
              "    .colab-df-container {\n",
              "      display:flex;\n",
              "      gap: 12px;\n",
              "    }\n",
              "\n",
              "    .colab-df-convert {\n",
              "      background-color: #E8F0FE;\n",
              "      border: none;\n",
              "      border-radius: 50%;\n",
              "      cursor: pointer;\n",
              "      display: none;\n",
              "      fill: #1967D2;\n",
              "      height: 32px;\n",
              "      padding: 0 0 0 0;\n",
              "      width: 32px;\n",
              "    }\n",
              "\n",
              "    .colab-df-convert:hover {\n",
              "      background-color: #E2EBFA;\n",
              "      box-shadow: 0px 1px 2px rgba(60, 64, 67, 0.3), 0px 1px 3px 1px rgba(60, 64, 67, 0.15);\n",
              "      fill: #174EA6;\n",
              "    }\n",
              "\n",
              "    .colab-df-buttons div {\n",
              "      margin-bottom: 4px;\n",
              "    }\n",
              "\n",
              "    [theme=dark] .colab-df-convert {\n",
              "      background-color: #3B4455;\n",
              "      fill: #D2E3FC;\n",
              "    }\n",
              "\n",
              "    [theme=dark] .colab-df-convert:hover {\n",
              "      background-color: #434B5C;\n",
              "      box-shadow: 0px 1px 3px 1px rgba(0, 0, 0, 0.15);\n",
              "      filter: drop-shadow(0px 1px 2px rgba(0, 0, 0, 0.3));\n",
              "      fill: #FFFFFF;\n",
              "    }\n",
              "  </style>\n",
              "\n",
              "    <script>\n",
              "      const buttonEl =\n",
              "        document.querySelector('#df-452725f0-9884-42f0-aab0-4903cd7f6f3c button.colab-df-convert');\n",
              "      buttonEl.style.display =\n",
              "        google.colab.kernel.accessAllowed ? 'block' : 'none';\n",
              "\n",
              "      async function convertToInteractive(key) {\n",
              "        const element = document.querySelector('#df-452725f0-9884-42f0-aab0-4903cd7f6f3c');\n",
              "        const dataTable =\n",
              "          await google.colab.kernel.invokeFunction('convertToInteractive',\n",
              "                                                    [key], {});\n",
              "        if (!dataTable) return;\n",
              "\n",
              "        const docLinkHtml = 'Like what you see? Visit the ' +\n",
              "          '<a target=\"_blank\" href=https://colab.research.google.com/notebooks/data_table.ipynb>data table notebook</a>'\n",
              "          + ' to learn more about interactive tables.';\n",
              "        element.innerHTML = '';\n",
              "        dataTable['output_type'] = 'display_data';\n",
              "        await google.colab.output.renderOutput(dataTable, element);\n",
              "        const docLink = document.createElement('div');\n",
              "        docLink.innerHTML = docLinkHtml;\n",
              "        element.appendChild(docLink);\n",
              "      }\n",
              "    </script>\n",
              "  </div>\n",
              "\n",
              "\n",
              "<div id=\"df-f7cfb097-3653-4f7e-8ec1-50a2c46468f6\">\n",
              "  <button class=\"colab-df-quickchart\" onclick=\"quickchart('df-f7cfb097-3653-4f7e-8ec1-50a2c46468f6')\"\n",
              "            title=\"Suggest charts.\"\n",
              "            style=\"display:none;\">\n",
              "\n",
              "<svg xmlns=\"http://www.w3.org/2000/svg\" height=\"24px\"viewBox=\"0 0 24 24\"\n",
              "     width=\"24px\">\n",
              "    <g>\n",
              "        <path d=\"M19 3H5c-1.1 0-2 .9-2 2v14c0 1.1.9 2 2 2h14c1.1 0 2-.9 2-2V5c0-1.1-.9-2-2-2zM9 17H7v-7h2v7zm4 0h-2V7h2v10zm4 0h-2v-4h2v4z\"/>\n",
              "    </g>\n",
              "</svg>\n",
              "  </button>\n",
              "\n",
              "<style>\n",
              "  .colab-df-quickchart {\n",
              "      --bg-color: #E8F0FE;\n",
              "      --fill-color: #1967D2;\n",
              "      --hover-bg-color: #E2EBFA;\n",
              "      --hover-fill-color: #174EA6;\n",
              "      --disabled-fill-color: #AAA;\n",
              "      --disabled-bg-color: #DDD;\n",
              "  }\n",
              "\n",
              "  [theme=dark] .colab-df-quickchart {\n",
              "      --bg-color: #3B4455;\n",
              "      --fill-color: #D2E3FC;\n",
              "      --hover-bg-color: #434B5C;\n",
              "      --hover-fill-color: #FFFFFF;\n",
              "      --disabled-bg-color: #3B4455;\n",
              "      --disabled-fill-color: #666;\n",
              "  }\n",
              "\n",
              "  .colab-df-quickchart {\n",
              "    background-color: var(--bg-color);\n",
              "    border: none;\n",
              "    border-radius: 50%;\n",
              "    cursor: pointer;\n",
              "    display: none;\n",
              "    fill: var(--fill-color);\n",
              "    height: 32px;\n",
              "    padding: 0;\n",
              "    width: 32px;\n",
              "  }\n",
              "\n",
              "  .colab-df-quickchart:hover {\n",
              "    background-color: var(--hover-bg-color);\n",
              "    box-shadow: 0 1px 2px rgba(60, 64, 67, 0.3), 0 1px 3px 1px rgba(60, 64, 67, 0.15);\n",
              "    fill: var(--button-hover-fill-color);\n",
              "  }\n",
              "\n",
              "  .colab-df-quickchart-complete:disabled,\n",
              "  .colab-df-quickchart-complete:disabled:hover {\n",
              "    background-color: var(--disabled-bg-color);\n",
              "    fill: var(--disabled-fill-color);\n",
              "    box-shadow: none;\n",
              "  }\n",
              "\n",
              "  .colab-df-spinner {\n",
              "    border: 2px solid var(--fill-color);\n",
              "    border-color: transparent;\n",
              "    border-bottom-color: var(--fill-color);\n",
              "    animation:\n",
              "      spin 1s steps(1) infinite;\n",
              "  }\n",
              "\n",
              "  @keyframes spin {\n",
              "    0% {\n",
              "      border-color: transparent;\n",
              "      border-bottom-color: var(--fill-color);\n",
              "      border-left-color: var(--fill-color);\n",
              "    }\n",
              "    20% {\n",
              "      border-color: transparent;\n",
              "      border-left-color: var(--fill-color);\n",
              "      border-top-color: var(--fill-color);\n",
              "    }\n",
              "    30% {\n",
              "      border-color: transparent;\n",
              "      border-left-color: var(--fill-color);\n",
              "      border-top-color: var(--fill-color);\n",
              "      border-right-color: var(--fill-color);\n",
              "    }\n",
              "    40% {\n",
              "      border-color: transparent;\n",
              "      border-right-color: var(--fill-color);\n",
              "      border-top-color: var(--fill-color);\n",
              "    }\n",
              "    60% {\n",
              "      border-color: transparent;\n",
              "      border-right-color: var(--fill-color);\n",
              "    }\n",
              "    80% {\n",
              "      border-color: transparent;\n",
              "      border-right-color: var(--fill-color);\n",
              "      border-bottom-color: var(--fill-color);\n",
              "    }\n",
              "    90% {\n",
              "      border-color: transparent;\n",
              "      border-bottom-color: var(--fill-color);\n",
              "    }\n",
              "  }\n",
              "</style>\n",
              "\n",
              "  <script>\n",
              "    async function quickchart(key) {\n",
              "      const quickchartButtonEl =\n",
              "        document.querySelector('#' + key + ' button');\n",
              "      quickchartButtonEl.disabled = true;  // To prevent multiple clicks.\n",
              "      quickchartButtonEl.classList.add('colab-df-spinner');\n",
              "      try {\n",
              "        const charts = await google.colab.kernel.invokeFunction(\n",
              "            'suggestCharts', [key], {});\n",
              "      } catch (error) {\n",
              "        console.error('Error during call to suggestCharts:', error);\n",
              "      }\n",
              "      quickchartButtonEl.classList.remove('colab-df-spinner');\n",
              "      quickchartButtonEl.classList.add('colab-df-quickchart-complete');\n",
              "    }\n",
              "    (() => {\n",
              "      let quickchartButtonEl =\n",
              "        document.querySelector('#df-f7cfb097-3653-4f7e-8ec1-50a2c46468f6 button');\n",
              "      quickchartButtonEl.style.display =\n",
              "        google.colab.kernel.accessAllowed ? 'block' : 'none';\n",
              "    })();\n",
              "  </script>\n",
              "</div>\n",
              "    </div>\n",
              "  </div>\n"
            ]
          },
          "metadata": {},
          "execution_count": 11
        }
      ],
      "source": [
        "df.describe()"
      ]
    },
    {
      "cell_type": "code",
      "execution_count": null,
      "metadata": {
        "colab": {
          "base_uri": "https://localhost:8080/",
          "height": 35
        },
        "id": "v2lL6ka1X4pW",
        "outputId": "d13bbb60-cb49-4f6b-ed91-0514fa5b2b87"
      },
      "outputs": [
        {
          "output_type": "execute_result",
          "data": {
            "text/plain": [
              "'Taipei to San Francisco via Incheon'"
            ],
            "application/vnd.google.colaboratory.intrinsic+json": {
              "type": "string"
            }
          },
          "metadata": {},
          "execution_count": 12
        }
      ],
      "source": [
        "df['Route'][13025]"
      ]
    },
    {
      "cell_type": "markdown",
      "metadata": {
        "id": "-Ka7u09m7QoE"
      },
      "source": [
        "#Here we want to split the Route to starting point and ending point. As now it is like an entire string"
      ]
    },
    {
      "cell_type": "markdown",
      "metadata": {
        "id": "nOHXjt5Q7O8p"
      },
      "source": []
    },
    {
      "cell_type": "code",
      "execution_count": null,
      "metadata": {
        "id": "NHjWNky-aQNH"
      },
      "outputs": [],
      "source": [
        "df.dropna(subset=['Route'],inplace=True)\n",
        "df.reset_index(drop=True,inplace=True)"
      ]
    },
    {
      "cell_type": "code",
      "execution_count": null,
      "metadata": {
        "id": "PZqLvtYOYMVf"
      },
      "outputs": [],
      "source": [
        "def Route_splitter(route):\n",
        "  parts=route.split(' ')\n",
        "  if 'to' not in parts:\n",
        "    from_=route.split(' ')[0]\n",
        "    to=route.split(' ')[-1]\n",
        "  else:\n",
        "    parts=route.split('to')\n",
        "    from_=parts[0].strip()\n",
        "    to=parts[1].strip()\n",
        "    to_destination=to.split(' ')\n",
        "    if 'via' in to_destination:\n",
        "      to=to.split('via')[0]\n",
        "  return pd.Series({'From':from_,'To':to})"
      ]
    },
    {
      "cell_type": "code",
      "execution_count": null,
      "metadata": {
        "id": "p9oXYUn-cyXG"
      },
      "outputs": [],
      "source": [
        "df[['From','To']]=df['Route'].apply(Route_splitter)"
      ]
    },
    {
      "cell_type": "code",
      "execution_count": null,
      "metadata": {
        "colab": {
          "base_uri": "https://localhost:8080/",
          "height": 724
        },
        "id": "tGSNdL-_c9rg",
        "outputId": "351ddcd3-5af8-4915-9c3f-b0519ed2d204"
      },
      "outputs": [
        {
          "output_type": "execute_result",
          "data": {
            "text/plain": [
              "   Unnamed: 0   Airline Name Overall_Rating  \\\n",
              "0           0    AB Aviation              9   \n",
              "1           1    AB Aviation              1   \n",
              "2           2    AB Aviation              1   \n",
              "3           3  Adria Airways              1   \n",
              "4           4  Adria Airways              1   \n",
              "\n",
              "                            Review_Title          Review Date  Verified  \\\n",
              "0                \"pretty decent airline\"   11th November 2019      True   \n",
              "1                   \"Not a good airline\"       25th June 2019      True   \n",
              "2         \"flight was fortunately short\"       25th June 2019      True   \n",
              "3    \"I will never fly again with Adria\"  28th September 2019     False   \n",
              "4  \"it ruined our last days of holidays\"  24th September 2019      True   \n",
              "\n",
              "                                              Review       Aircraft  \\\n",
              "0    Moroni to Moheli. Turned out to be a pretty ...            NaN   \n",
              "1   Moroni to Anjouan. It is a very small airline...           E120   \n",
              "2    Anjouan to Dzaoudzi. A very small airline an...  Embraer E120    \n",
              "3    Please do a favor yourself and do not fly wi...            NaN   \n",
              "4   Do not book a flight with this airline! My fr...            NaN   \n",
              "\n",
              "  Type Of Traveller      Seat Type  ... Seat Comfort Cabin Staff Service  \\\n",
              "0      Solo Leisure  Economy Class  ...          4.0                 5.0   \n",
              "1      Solo Leisure  Economy Class  ...          2.0                 2.0   \n",
              "2      Solo Leisure  Economy Class  ...          2.0                 1.0   \n",
              "3      Solo Leisure  Economy Class  ...          1.0                 1.0   \n",
              "4    Couple Leisure  Economy Class  ...          1.0                 1.0   \n",
              "\n",
              "   Food & Beverages  Ground Service  Inflight Entertainment  \\\n",
              "0               4.0             4.0                     NaN   \n",
              "1               1.0             1.0                     NaN   \n",
              "2               1.0             1.0                     NaN   \n",
              "3               NaN             1.0                     NaN   \n",
              "4               1.0             1.0                     1.0   \n",
              "\n",
              "   Wifi & Connectivity  Value For Money  Recommended       From          To  \n",
              "0                  NaN              3.0          yes     Moroni      Moheli  \n",
              "1                  NaN              2.0           no     Moroni     Anjouan  \n",
              "2                  NaN              2.0           no    Anjouan    Dzaoudzi  \n",
              "3                  NaN              1.0           no  Frankfurt    Pristina  \n",
              "4                  1.0              1.0           no      Sofia  Amsterdam   \n",
              "\n",
              "[5 rows x 22 columns]"
            ],
            "text/html": [
              "\n",
              "  <div id=\"df-ac469fb0-d192-4c4c-b907-80afc9fdfc1f\" class=\"colab-df-container\">\n",
              "    <div>\n",
              "<style scoped>\n",
              "    .dataframe tbody tr th:only-of-type {\n",
              "        vertical-align: middle;\n",
              "    }\n",
              "\n",
              "    .dataframe tbody tr th {\n",
              "        vertical-align: top;\n",
              "    }\n",
              "\n",
              "    .dataframe thead th {\n",
              "        text-align: right;\n",
              "    }\n",
              "</style>\n",
              "<table border=\"1\" class=\"dataframe\">\n",
              "  <thead>\n",
              "    <tr style=\"text-align: right;\">\n",
              "      <th></th>\n",
              "      <th>Unnamed: 0</th>\n",
              "      <th>Airline Name</th>\n",
              "      <th>Overall_Rating</th>\n",
              "      <th>Review_Title</th>\n",
              "      <th>Review Date</th>\n",
              "      <th>Verified</th>\n",
              "      <th>Review</th>\n",
              "      <th>Aircraft</th>\n",
              "      <th>Type Of Traveller</th>\n",
              "      <th>Seat Type</th>\n",
              "      <th>...</th>\n",
              "      <th>Seat Comfort</th>\n",
              "      <th>Cabin Staff Service</th>\n",
              "      <th>Food &amp; Beverages</th>\n",
              "      <th>Ground Service</th>\n",
              "      <th>Inflight Entertainment</th>\n",
              "      <th>Wifi &amp; Connectivity</th>\n",
              "      <th>Value For Money</th>\n",
              "      <th>Recommended</th>\n",
              "      <th>From</th>\n",
              "      <th>To</th>\n",
              "    </tr>\n",
              "  </thead>\n",
              "  <tbody>\n",
              "    <tr>\n",
              "      <th>0</th>\n",
              "      <td>0</td>\n",
              "      <td>AB Aviation</td>\n",
              "      <td>9</td>\n",
              "      <td>\"pretty decent airline\"</td>\n",
              "      <td>11th November 2019</td>\n",
              "      <td>True</td>\n",
              "      <td>Moroni to Moheli. Turned out to be a pretty ...</td>\n",
              "      <td>NaN</td>\n",
              "      <td>Solo Leisure</td>\n",
              "      <td>Economy Class</td>\n",
              "      <td>...</td>\n",
              "      <td>4.0</td>\n",
              "      <td>5.0</td>\n",
              "      <td>4.0</td>\n",
              "      <td>4.0</td>\n",
              "      <td>NaN</td>\n",
              "      <td>NaN</td>\n",
              "      <td>3.0</td>\n",
              "      <td>yes</td>\n",
              "      <td>Moroni</td>\n",
              "      <td>Moheli</td>\n",
              "    </tr>\n",
              "    <tr>\n",
              "      <th>1</th>\n",
              "      <td>1</td>\n",
              "      <td>AB Aviation</td>\n",
              "      <td>1</td>\n",
              "      <td>\"Not a good airline\"</td>\n",
              "      <td>25th June 2019</td>\n",
              "      <td>True</td>\n",
              "      <td>Moroni to Anjouan. It is a very small airline...</td>\n",
              "      <td>E120</td>\n",
              "      <td>Solo Leisure</td>\n",
              "      <td>Economy Class</td>\n",
              "      <td>...</td>\n",
              "      <td>2.0</td>\n",
              "      <td>2.0</td>\n",
              "      <td>1.0</td>\n",
              "      <td>1.0</td>\n",
              "      <td>NaN</td>\n",
              "      <td>NaN</td>\n",
              "      <td>2.0</td>\n",
              "      <td>no</td>\n",
              "      <td>Moroni</td>\n",
              "      <td>Anjouan</td>\n",
              "    </tr>\n",
              "    <tr>\n",
              "      <th>2</th>\n",
              "      <td>2</td>\n",
              "      <td>AB Aviation</td>\n",
              "      <td>1</td>\n",
              "      <td>\"flight was fortunately short\"</td>\n",
              "      <td>25th June 2019</td>\n",
              "      <td>True</td>\n",
              "      <td>Anjouan to Dzaoudzi. A very small airline an...</td>\n",
              "      <td>Embraer E120</td>\n",
              "      <td>Solo Leisure</td>\n",
              "      <td>Economy Class</td>\n",
              "      <td>...</td>\n",
              "      <td>2.0</td>\n",
              "      <td>1.0</td>\n",
              "      <td>1.0</td>\n",
              "      <td>1.0</td>\n",
              "      <td>NaN</td>\n",
              "      <td>NaN</td>\n",
              "      <td>2.0</td>\n",
              "      <td>no</td>\n",
              "      <td>Anjouan</td>\n",
              "      <td>Dzaoudzi</td>\n",
              "    </tr>\n",
              "    <tr>\n",
              "      <th>3</th>\n",
              "      <td>3</td>\n",
              "      <td>Adria Airways</td>\n",
              "      <td>1</td>\n",
              "      <td>\"I will never fly again with Adria\"</td>\n",
              "      <td>28th September 2019</td>\n",
              "      <td>False</td>\n",
              "      <td>Please do a favor yourself and do not fly wi...</td>\n",
              "      <td>NaN</td>\n",
              "      <td>Solo Leisure</td>\n",
              "      <td>Economy Class</td>\n",
              "      <td>...</td>\n",
              "      <td>1.0</td>\n",
              "      <td>1.0</td>\n",
              "      <td>NaN</td>\n",
              "      <td>1.0</td>\n",
              "      <td>NaN</td>\n",
              "      <td>NaN</td>\n",
              "      <td>1.0</td>\n",
              "      <td>no</td>\n",
              "      <td>Frankfurt</td>\n",
              "      <td>Pristina</td>\n",
              "    </tr>\n",
              "    <tr>\n",
              "      <th>4</th>\n",
              "      <td>4</td>\n",
              "      <td>Adria Airways</td>\n",
              "      <td>1</td>\n",
              "      <td>\"it ruined our last days of holidays\"</td>\n",
              "      <td>24th September 2019</td>\n",
              "      <td>True</td>\n",
              "      <td>Do not book a flight with this airline! My fr...</td>\n",
              "      <td>NaN</td>\n",
              "      <td>Couple Leisure</td>\n",
              "      <td>Economy Class</td>\n",
              "      <td>...</td>\n",
              "      <td>1.0</td>\n",
              "      <td>1.0</td>\n",
              "      <td>1.0</td>\n",
              "      <td>1.0</td>\n",
              "      <td>1.0</td>\n",
              "      <td>1.0</td>\n",
              "      <td>1.0</td>\n",
              "      <td>no</td>\n",
              "      <td>Sofia</td>\n",
              "      <td>Amsterdam</td>\n",
              "    </tr>\n",
              "  </tbody>\n",
              "</table>\n",
              "<p>5 rows × 22 columns</p>\n",
              "</div>\n",
              "    <div class=\"colab-df-buttons\">\n",
              "\n",
              "  <div class=\"colab-df-container\">\n",
              "    <button class=\"colab-df-convert\" onclick=\"convertToInteractive('df-ac469fb0-d192-4c4c-b907-80afc9fdfc1f')\"\n",
              "            title=\"Convert this dataframe to an interactive table.\"\n",
              "            style=\"display:none;\">\n",
              "\n",
              "  <svg xmlns=\"http://www.w3.org/2000/svg\" height=\"24px\" viewBox=\"0 -960 960 960\">\n",
              "    <path d=\"M120-120v-720h720v720H120Zm60-500h600v-160H180v160Zm220 220h160v-160H400v160Zm0 220h160v-160H400v160ZM180-400h160v-160H180v160Zm440 0h160v-160H620v160ZM180-180h160v-160H180v160Zm440 0h160v-160H620v160Z\"/>\n",
              "  </svg>\n",
              "    </button>\n",
              "\n",
              "  <style>\n",
              "    .colab-df-container {\n",
              "      display:flex;\n",
              "      gap: 12px;\n",
              "    }\n",
              "\n",
              "    .colab-df-convert {\n",
              "      background-color: #E8F0FE;\n",
              "      border: none;\n",
              "      border-radius: 50%;\n",
              "      cursor: pointer;\n",
              "      display: none;\n",
              "      fill: #1967D2;\n",
              "      height: 32px;\n",
              "      padding: 0 0 0 0;\n",
              "      width: 32px;\n",
              "    }\n",
              "\n",
              "    .colab-df-convert:hover {\n",
              "      background-color: #E2EBFA;\n",
              "      box-shadow: 0px 1px 2px rgba(60, 64, 67, 0.3), 0px 1px 3px 1px rgba(60, 64, 67, 0.15);\n",
              "      fill: #174EA6;\n",
              "    }\n",
              "\n",
              "    .colab-df-buttons div {\n",
              "      margin-bottom: 4px;\n",
              "    }\n",
              "\n",
              "    [theme=dark] .colab-df-convert {\n",
              "      background-color: #3B4455;\n",
              "      fill: #D2E3FC;\n",
              "    }\n",
              "\n",
              "    [theme=dark] .colab-df-convert:hover {\n",
              "      background-color: #434B5C;\n",
              "      box-shadow: 0px 1px 3px 1px rgba(0, 0, 0, 0.15);\n",
              "      filter: drop-shadow(0px 1px 2px rgba(0, 0, 0, 0.3));\n",
              "      fill: #FFFFFF;\n",
              "    }\n",
              "  </style>\n",
              "\n",
              "    <script>\n",
              "      const buttonEl =\n",
              "        document.querySelector('#df-ac469fb0-d192-4c4c-b907-80afc9fdfc1f button.colab-df-convert');\n",
              "      buttonEl.style.display =\n",
              "        google.colab.kernel.accessAllowed ? 'block' : 'none';\n",
              "\n",
              "      async function convertToInteractive(key) {\n",
              "        const element = document.querySelector('#df-ac469fb0-d192-4c4c-b907-80afc9fdfc1f');\n",
              "        const dataTable =\n",
              "          await google.colab.kernel.invokeFunction('convertToInteractive',\n",
              "                                                    [key], {});\n",
              "        if (!dataTable) return;\n",
              "\n",
              "        const docLinkHtml = 'Like what you see? Visit the ' +\n",
              "          '<a target=\"_blank\" href=https://colab.research.google.com/notebooks/data_table.ipynb>data table notebook</a>'\n",
              "          + ' to learn more about interactive tables.';\n",
              "        element.innerHTML = '';\n",
              "        dataTable['output_type'] = 'display_data';\n",
              "        await google.colab.output.renderOutput(dataTable, element);\n",
              "        const docLink = document.createElement('div');\n",
              "        docLink.innerHTML = docLinkHtml;\n",
              "        element.appendChild(docLink);\n",
              "      }\n",
              "    </script>\n",
              "  </div>\n",
              "\n",
              "\n",
              "<div id=\"df-a43be092-a103-4002-8439-f4f5e499e222\">\n",
              "  <button class=\"colab-df-quickchart\" onclick=\"quickchart('df-a43be092-a103-4002-8439-f4f5e499e222')\"\n",
              "            title=\"Suggest charts.\"\n",
              "            style=\"display:none;\">\n",
              "\n",
              "<svg xmlns=\"http://www.w3.org/2000/svg\" height=\"24px\"viewBox=\"0 0 24 24\"\n",
              "     width=\"24px\">\n",
              "    <g>\n",
              "        <path d=\"M19 3H5c-1.1 0-2 .9-2 2v14c0 1.1.9 2 2 2h14c1.1 0 2-.9 2-2V5c0-1.1-.9-2-2-2zM9 17H7v-7h2v7zm4 0h-2V7h2v10zm4 0h-2v-4h2v4z\"/>\n",
              "    </g>\n",
              "</svg>\n",
              "  </button>\n",
              "\n",
              "<style>\n",
              "  .colab-df-quickchart {\n",
              "      --bg-color: #E8F0FE;\n",
              "      --fill-color: #1967D2;\n",
              "      --hover-bg-color: #E2EBFA;\n",
              "      --hover-fill-color: #174EA6;\n",
              "      --disabled-fill-color: #AAA;\n",
              "      --disabled-bg-color: #DDD;\n",
              "  }\n",
              "\n",
              "  [theme=dark] .colab-df-quickchart {\n",
              "      --bg-color: #3B4455;\n",
              "      --fill-color: #D2E3FC;\n",
              "      --hover-bg-color: #434B5C;\n",
              "      --hover-fill-color: #FFFFFF;\n",
              "      --disabled-bg-color: #3B4455;\n",
              "      --disabled-fill-color: #666;\n",
              "  }\n",
              "\n",
              "  .colab-df-quickchart {\n",
              "    background-color: var(--bg-color);\n",
              "    border: none;\n",
              "    border-radius: 50%;\n",
              "    cursor: pointer;\n",
              "    display: none;\n",
              "    fill: var(--fill-color);\n",
              "    height: 32px;\n",
              "    padding: 0;\n",
              "    width: 32px;\n",
              "  }\n",
              "\n",
              "  .colab-df-quickchart:hover {\n",
              "    background-color: var(--hover-bg-color);\n",
              "    box-shadow: 0 1px 2px rgba(60, 64, 67, 0.3), 0 1px 3px 1px rgba(60, 64, 67, 0.15);\n",
              "    fill: var(--button-hover-fill-color);\n",
              "  }\n",
              "\n",
              "  .colab-df-quickchart-complete:disabled,\n",
              "  .colab-df-quickchart-complete:disabled:hover {\n",
              "    background-color: var(--disabled-bg-color);\n",
              "    fill: var(--disabled-fill-color);\n",
              "    box-shadow: none;\n",
              "  }\n",
              "\n",
              "  .colab-df-spinner {\n",
              "    border: 2px solid var(--fill-color);\n",
              "    border-color: transparent;\n",
              "    border-bottom-color: var(--fill-color);\n",
              "    animation:\n",
              "      spin 1s steps(1) infinite;\n",
              "  }\n",
              "\n",
              "  @keyframes spin {\n",
              "    0% {\n",
              "      border-color: transparent;\n",
              "      border-bottom-color: var(--fill-color);\n",
              "      border-left-color: var(--fill-color);\n",
              "    }\n",
              "    20% {\n",
              "      border-color: transparent;\n",
              "      border-left-color: var(--fill-color);\n",
              "      border-top-color: var(--fill-color);\n",
              "    }\n",
              "    30% {\n",
              "      border-color: transparent;\n",
              "      border-left-color: var(--fill-color);\n",
              "      border-top-color: var(--fill-color);\n",
              "      border-right-color: var(--fill-color);\n",
              "    }\n",
              "    40% {\n",
              "      border-color: transparent;\n",
              "      border-right-color: var(--fill-color);\n",
              "      border-top-color: var(--fill-color);\n",
              "    }\n",
              "    60% {\n",
              "      border-color: transparent;\n",
              "      border-right-color: var(--fill-color);\n",
              "    }\n",
              "    80% {\n",
              "      border-color: transparent;\n",
              "      border-right-color: var(--fill-color);\n",
              "      border-bottom-color: var(--fill-color);\n",
              "    }\n",
              "    90% {\n",
              "      border-color: transparent;\n",
              "      border-bottom-color: var(--fill-color);\n",
              "    }\n",
              "  }\n",
              "</style>\n",
              "\n",
              "  <script>\n",
              "    async function quickchart(key) {\n",
              "      const quickchartButtonEl =\n",
              "        document.querySelector('#' + key + ' button');\n",
              "      quickchartButtonEl.disabled = true;  // To prevent multiple clicks.\n",
              "      quickchartButtonEl.classList.add('colab-df-spinner');\n",
              "      try {\n",
              "        const charts = await google.colab.kernel.invokeFunction(\n",
              "            'suggestCharts', [key], {});\n",
              "      } catch (error) {\n",
              "        console.error('Error during call to suggestCharts:', error);\n",
              "      }\n",
              "      quickchartButtonEl.classList.remove('colab-df-spinner');\n",
              "      quickchartButtonEl.classList.add('colab-df-quickchart-complete');\n",
              "    }\n",
              "    (() => {\n",
              "      let quickchartButtonEl =\n",
              "        document.querySelector('#df-a43be092-a103-4002-8439-f4f5e499e222 button');\n",
              "      quickchartButtonEl.style.display =\n",
              "        google.colab.kernel.accessAllowed ? 'block' : 'none';\n",
              "    })();\n",
              "  </script>\n",
              "</div>\n",
              "    </div>\n",
              "  </div>\n"
            ]
          },
          "metadata": {},
          "execution_count": 16
        }
      ],
      "source": [
        "df.head()"
      ]
    },
    {
      "cell_type": "code",
      "execution_count": null,
      "metadata": {
        "colab": {
          "base_uri": "https://localhost:8080/",
          "height": 35
        },
        "id": "2Qu_i_rJeSS8",
        "outputId": "14eb6f1c-1eac-4a3a-9456-80eda3f6e4ef"
      },
      "outputs": [
        {
          "output_type": "execute_result",
          "data": {
            "text/plain": [
              "'Kharkiv to Beirut via Istanbul'"
            ],
            "application/vnd.google.colaboratory.intrinsic+json": {
              "type": "string"
            }
          },
          "metadata": {},
          "execution_count": 17
        }
      ],
      "source": [
        "df['Route'][13023]"
      ]
    },
    {
      "cell_type": "code",
      "execution_count": null,
      "metadata": {
        "colab": {
          "base_uri": "https://localhost:8080/",
          "height": 35
        },
        "id": "_3HcyQ8hkKrc",
        "outputId": "7c923bc7-88fd-4f86-c81f-71583f33f986"
      },
      "outputs": [
        {
          "output_type": "execute_result",
          "data": {
            "text/plain": [
              "'Kharkiv'"
            ],
            "application/vnd.google.colaboratory.intrinsic+json": {
              "type": "string"
            }
          },
          "metadata": {},
          "execution_count": 18
        }
      ],
      "source": [
        "df['From'][13023]"
      ]
    },
    {
      "cell_type": "code",
      "execution_count": null,
      "metadata": {
        "colab": {
          "base_uri": "https://localhost:8080/",
          "height": 35
        },
        "id": "bM1voxgSkQzG",
        "outputId": "af60abf0-a4e0-47b5-842e-cd9ddbec260d"
      },
      "outputs": [
        {
          "output_type": "execute_result",
          "data": {
            "text/plain": [
              "'Beirut '"
            ],
            "application/vnd.google.colaboratory.intrinsic+json": {
              "type": "string"
            }
          },
          "metadata": {},
          "execution_count": 19
        }
      ],
      "source": [
        "df['To'][13023]"
      ]
    },
    {
      "cell_type": "code",
      "execution_count": null,
      "metadata": {
        "colab": {
          "base_uri": "https://localhost:8080/",
          "height": 1000
        },
        "id": "8lQ8bcTpkThp",
        "outputId": "38da8624-272b-490c-e720-23c306998ceb"
      },
      "outputs": [
        {
          "output_type": "execute_result",
          "data": {
            "text/plain": [
              "       Unnamed: 0   Airline Name Overall_Rating  \\\n",
              "0               0    AB Aviation              9   \n",
              "1               1    AB Aviation              1   \n",
              "2               2    AB Aviation              1   \n",
              "3               3  Adria Airways              1   \n",
              "4               4  Adria Airways              1   \n",
              "...           ...            ...            ...   \n",
              "19336       23164         ZIPAIR              1   \n",
              "19337       23165         ZIPAIR              1   \n",
              "19338       23166         ZIPAIR              1   \n",
              "19339       23167         ZIPAIR              1   \n",
              "19340       23168         ZIPAIR              3   \n",
              "\n",
              "                                     Review_Title          Review Date  \\\n",
              "0                         \"pretty decent airline\"   11th November 2019   \n",
              "1                            \"Not a good airline\"       25th June 2019   \n",
              "2                  \"flight was fortunately short\"       25th June 2019   \n",
              "3             \"I will never fly again with Adria\"  28th September 2019   \n",
              "4           \"it ruined our last days of holidays\"  24th September 2019   \n",
              "...                                           ...                  ...   \n",
              "19336  \"$300 savings was absolutely not worth it\"       22nd July 2022   \n",
              "19337             \"worst airline experience ever\"       13th July 2022   \n",
              "19338              \"customer service is terrible\"        5th July 2022   \n",
              "19339                        \"Avoid at all costs\"        1st June 2022   \n",
              "19340              \"Will not recommend to anyone\"        31st May 2022   \n",
              "\n",
              "       Verified                                             Review  \\\n",
              "0          True    Moroni to Moheli. Turned out to be a pretty ...   \n",
              "1          True   Moroni to Anjouan. It is a very small airline...   \n",
              "2          True    Anjouan to Dzaoudzi. A very small airline an...   \n",
              "3         False    Please do a favor yourself and do not fly wi...   \n",
              "4          True   Do not book a flight with this airline! My fr...   \n",
              "...         ...                                                ...   \n",
              "19336      True    My issues started before we even flew. I rec...   \n",
              "19337     False    Terrible experience with customer service on...   \n",
              "19338     False   Bangkok to Tokyo. I’ve flown many low cost ai...   \n",
              "19339      True    Avoid at all costs. I booked flights to go f...   \n",
              "19340      True    Flight was leaving at 23.15 and after an hou...   \n",
              "\n",
              "            Aircraft Type Of Traveller       Seat Type  ... Seat Comfort  \\\n",
              "0                NaN      Solo Leisure   Economy Class  ...          4.0   \n",
              "1               E120      Solo Leisure   Economy Class  ...          2.0   \n",
              "2      Embraer E120       Solo Leisure   Economy Class  ...          2.0   \n",
              "3                NaN      Solo Leisure   Economy Class  ...          1.0   \n",
              "4                NaN    Couple Leisure   Economy Class  ...          1.0   \n",
              "...              ...               ...             ...  ...          ...   \n",
              "19336            NaN    Family Leisure   Economy Class  ...          3.0   \n",
              "19337            NaN    Couple Leisure  Business Class  ...          NaN   \n",
              "19338            NaN    Couple Leisure   Economy Class  ...          2.0   \n",
              "19339            NaN      Solo Leisure   Economy Class  ...          NaN   \n",
              "19340            NaN          Business   Economy Class  ...          2.0   \n",
              "\n",
              "      Cabin Staff Service  Food & Beverages  Ground Service  \\\n",
              "0                     5.0               4.0             4.0   \n",
              "1                     2.0               1.0             1.0   \n",
              "2                     1.0               1.0             1.0   \n",
              "3                     1.0               NaN             1.0   \n",
              "4                     1.0               1.0             1.0   \n",
              "...                   ...               ...             ...   \n",
              "19336                 4.0               1.0             1.0   \n",
              "19337                 NaN               NaN             NaN   \n",
              "19338                 1.0               NaN             1.0   \n",
              "19339                 NaN               NaN             NaN   \n",
              "19340                 4.0               2.0             1.0   \n",
              "\n",
              "       Inflight Entertainment  Wifi & Connectivity  Value For Money  \\\n",
              "0                         NaN                  NaN              3.0   \n",
              "1                         NaN                  NaN              2.0   \n",
              "2                         NaN                  NaN              2.0   \n",
              "3                         NaN                  NaN              1.0   \n",
              "4                         1.0                  1.0              1.0   \n",
              "...                       ...                  ...              ...   \n",
              "19336                     1.0                  2.0              2.0   \n",
              "19337                     NaN                  NaN              1.0   \n",
              "19338                     1.0                  1.0              1.0   \n",
              "19339                     NaN                  NaN              1.0   \n",
              "19340                     NaN                  NaN              2.0   \n",
              "\n",
              "       Recommended         From           To  \n",
              "0              yes       Moroni       Moheli  \n",
              "1               no       Moroni      Anjouan  \n",
              "2               no      Anjouan     Dzaoudzi  \n",
              "3               no    Frankfurt     Pristina  \n",
              "4               no        Sofia   Amsterdam   \n",
              "...            ...          ...          ...  \n",
              "19336           no  Los Angeles       Narita  \n",
              "19337           no        Tokyo  Los Angeles  \n",
              "19338           no      Bangkok        Tokyo  \n",
              "19339           no    Singapore        Tokyo  \n",
              "19340           no      Bangkok        Tokyo  \n",
              "\n",
              "[19341 rows x 22 columns]"
            ],
            "text/html": [
              "\n",
              "  <div id=\"df-a6a61161-4555-4f26-910d-6aa7e7f91a88\" class=\"colab-df-container\">\n",
              "    <div>\n",
              "<style scoped>\n",
              "    .dataframe tbody tr th:only-of-type {\n",
              "        vertical-align: middle;\n",
              "    }\n",
              "\n",
              "    .dataframe tbody tr th {\n",
              "        vertical-align: top;\n",
              "    }\n",
              "\n",
              "    .dataframe thead th {\n",
              "        text-align: right;\n",
              "    }\n",
              "</style>\n",
              "<table border=\"1\" class=\"dataframe\">\n",
              "  <thead>\n",
              "    <tr style=\"text-align: right;\">\n",
              "      <th></th>\n",
              "      <th>Unnamed: 0</th>\n",
              "      <th>Airline Name</th>\n",
              "      <th>Overall_Rating</th>\n",
              "      <th>Review_Title</th>\n",
              "      <th>Review Date</th>\n",
              "      <th>Verified</th>\n",
              "      <th>Review</th>\n",
              "      <th>Aircraft</th>\n",
              "      <th>Type Of Traveller</th>\n",
              "      <th>Seat Type</th>\n",
              "      <th>...</th>\n",
              "      <th>Seat Comfort</th>\n",
              "      <th>Cabin Staff Service</th>\n",
              "      <th>Food &amp; Beverages</th>\n",
              "      <th>Ground Service</th>\n",
              "      <th>Inflight Entertainment</th>\n",
              "      <th>Wifi &amp; Connectivity</th>\n",
              "      <th>Value For Money</th>\n",
              "      <th>Recommended</th>\n",
              "      <th>From</th>\n",
              "      <th>To</th>\n",
              "    </tr>\n",
              "  </thead>\n",
              "  <tbody>\n",
              "    <tr>\n",
              "      <th>0</th>\n",
              "      <td>0</td>\n",
              "      <td>AB Aviation</td>\n",
              "      <td>9</td>\n",
              "      <td>\"pretty decent airline\"</td>\n",
              "      <td>11th November 2019</td>\n",
              "      <td>True</td>\n",
              "      <td>Moroni to Moheli. Turned out to be a pretty ...</td>\n",
              "      <td>NaN</td>\n",
              "      <td>Solo Leisure</td>\n",
              "      <td>Economy Class</td>\n",
              "      <td>...</td>\n",
              "      <td>4.0</td>\n",
              "      <td>5.0</td>\n",
              "      <td>4.0</td>\n",
              "      <td>4.0</td>\n",
              "      <td>NaN</td>\n",
              "      <td>NaN</td>\n",
              "      <td>3.0</td>\n",
              "      <td>yes</td>\n",
              "      <td>Moroni</td>\n",
              "      <td>Moheli</td>\n",
              "    </tr>\n",
              "    <tr>\n",
              "      <th>1</th>\n",
              "      <td>1</td>\n",
              "      <td>AB Aviation</td>\n",
              "      <td>1</td>\n",
              "      <td>\"Not a good airline\"</td>\n",
              "      <td>25th June 2019</td>\n",
              "      <td>True</td>\n",
              "      <td>Moroni to Anjouan. It is a very small airline...</td>\n",
              "      <td>E120</td>\n",
              "      <td>Solo Leisure</td>\n",
              "      <td>Economy Class</td>\n",
              "      <td>...</td>\n",
              "      <td>2.0</td>\n",
              "      <td>2.0</td>\n",
              "      <td>1.0</td>\n",
              "      <td>1.0</td>\n",
              "      <td>NaN</td>\n",
              "      <td>NaN</td>\n",
              "      <td>2.0</td>\n",
              "      <td>no</td>\n",
              "      <td>Moroni</td>\n",
              "      <td>Anjouan</td>\n",
              "    </tr>\n",
              "    <tr>\n",
              "      <th>2</th>\n",
              "      <td>2</td>\n",
              "      <td>AB Aviation</td>\n",
              "      <td>1</td>\n",
              "      <td>\"flight was fortunately short\"</td>\n",
              "      <td>25th June 2019</td>\n",
              "      <td>True</td>\n",
              "      <td>Anjouan to Dzaoudzi. A very small airline an...</td>\n",
              "      <td>Embraer E120</td>\n",
              "      <td>Solo Leisure</td>\n",
              "      <td>Economy Class</td>\n",
              "      <td>...</td>\n",
              "      <td>2.0</td>\n",
              "      <td>1.0</td>\n",
              "      <td>1.0</td>\n",
              "      <td>1.0</td>\n",
              "      <td>NaN</td>\n",
              "      <td>NaN</td>\n",
              "      <td>2.0</td>\n",
              "      <td>no</td>\n",
              "      <td>Anjouan</td>\n",
              "      <td>Dzaoudzi</td>\n",
              "    </tr>\n",
              "    <tr>\n",
              "      <th>3</th>\n",
              "      <td>3</td>\n",
              "      <td>Adria Airways</td>\n",
              "      <td>1</td>\n",
              "      <td>\"I will never fly again with Adria\"</td>\n",
              "      <td>28th September 2019</td>\n",
              "      <td>False</td>\n",
              "      <td>Please do a favor yourself and do not fly wi...</td>\n",
              "      <td>NaN</td>\n",
              "      <td>Solo Leisure</td>\n",
              "      <td>Economy Class</td>\n",
              "      <td>...</td>\n",
              "      <td>1.0</td>\n",
              "      <td>1.0</td>\n",
              "      <td>NaN</td>\n",
              "      <td>1.0</td>\n",
              "      <td>NaN</td>\n",
              "      <td>NaN</td>\n",
              "      <td>1.0</td>\n",
              "      <td>no</td>\n",
              "      <td>Frankfurt</td>\n",
              "      <td>Pristina</td>\n",
              "    </tr>\n",
              "    <tr>\n",
              "      <th>4</th>\n",
              "      <td>4</td>\n",
              "      <td>Adria Airways</td>\n",
              "      <td>1</td>\n",
              "      <td>\"it ruined our last days of holidays\"</td>\n",
              "      <td>24th September 2019</td>\n",
              "      <td>True</td>\n",
              "      <td>Do not book a flight with this airline! My fr...</td>\n",
              "      <td>NaN</td>\n",
              "      <td>Couple Leisure</td>\n",
              "      <td>Economy Class</td>\n",
              "      <td>...</td>\n",
              "      <td>1.0</td>\n",
              "      <td>1.0</td>\n",
              "      <td>1.0</td>\n",
              "      <td>1.0</td>\n",
              "      <td>1.0</td>\n",
              "      <td>1.0</td>\n",
              "      <td>1.0</td>\n",
              "      <td>no</td>\n",
              "      <td>Sofia</td>\n",
              "      <td>Amsterdam</td>\n",
              "    </tr>\n",
              "    <tr>\n",
              "      <th>...</th>\n",
              "      <td>...</td>\n",
              "      <td>...</td>\n",
              "      <td>...</td>\n",
              "      <td>...</td>\n",
              "      <td>...</td>\n",
              "      <td>...</td>\n",
              "      <td>...</td>\n",
              "      <td>...</td>\n",
              "      <td>...</td>\n",
              "      <td>...</td>\n",
              "      <td>...</td>\n",
              "      <td>...</td>\n",
              "      <td>...</td>\n",
              "      <td>...</td>\n",
              "      <td>...</td>\n",
              "      <td>...</td>\n",
              "      <td>...</td>\n",
              "      <td>...</td>\n",
              "      <td>...</td>\n",
              "      <td>...</td>\n",
              "      <td>...</td>\n",
              "    </tr>\n",
              "    <tr>\n",
              "      <th>19336</th>\n",
              "      <td>23164</td>\n",
              "      <td>ZIPAIR</td>\n",
              "      <td>1</td>\n",
              "      <td>\"$300 savings was absolutely not worth it\"</td>\n",
              "      <td>22nd July 2022</td>\n",
              "      <td>True</td>\n",
              "      <td>My issues started before we even flew. I rec...</td>\n",
              "      <td>NaN</td>\n",
              "      <td>Family Leisure</td>\n",
              "      <td>Economy Class</td>\n",
              "      <td>...</td>\n",
              "      <td>3.0</td>\n",
              "      <td>4.0</td>\n",
              "      <td>1.0</td>\n",
              "      <td>1.0</td>\n",
              "      <td>1.0</td>\n",
              "      <td>2.0</td>\n",
              "      <td>2.0</td>\n",
              "      <td>no</td>\n",
              "      <td>Los Angeles</td>\n",
              "      <td>Narita</td>\n",
              "    </tr>\n",
              "    <tr>\n",
              "      <th>19337</th>\n",
              "      <td>23165</td>\n",
              "      <td>ZIPAIR</td>\n",
              "      <td>1</td>\n",
              "      <td>\"worst airline experience ever\"</td>\n",
              "      <td>13th July 2022</td>\n",
              "      <td>False</td>\n",
              "      <td>Terrible experience with customer service on...</td>\n",
              "      <td>NaN</td>\n",
              "      <td>Couple Leisure</td>\n",
              "      <td>Business Class</td>\n",
              "      <td>...</td>\n",
              "      <td>NaN</td>\n",
              "      <td>NaN</td>\n",
              "      <td>NaN</td>\n",
              "      <td>NaN</td>\n",
              "      <td>NaN</td>\n",
              "      <td>NaN</td>\n",
              "      <td>1.0</td>\n",
              "      <td>no</td>\n",
              "      <td>Tokyo</td>\n",
              "      <td>Los Angeles</td>\n",
              "    </tr>\n",
              "    <tr>\n",
              "      <th>19338</th>\n",
              "      <td>23166</td>\n",
              "      <td>ZIPAIR</td>\n",
              "      <td>1</td>\n",
              "      <td>\"customer service is terrible\"</td>\n",
              "      <td>5th July 2022</td>\n",
              "      <td>False</td>\n",
              "      <td>Bangkok to Tokyo. I’ve flown many low cost ai...</td>\n",
              "      <td>NaN</td>\n",
              "      <td>Couple Leisure</td>\n",
              "      <td>Economy Class</td>\n",
              "      <td>...</td>\n",
              "      <td>2.0</td>\n",
              "      <td>1.0</td>\n",
              "      <td>NaN</td>\n",
              "      <td>1.0</td>\n",
              "      <td>1.0</td>\n",
              "      <td>1.0</td>\n",
              "      <td>1.0</td>\n",
              "      <td>no</td>\n",
              "      <td>Bangkok</td>\n",
              "      <td>Tokyo</td>\n",
              "    </tr>\n",
              "    <tr>\n",
              "      <th>19339</th>\n",
              "      <td>23167</td>\n",
              "      <td>ZIPAIR</td>\n",
              "      <td>1</td>\n",
              "      <td>\"Avoid at all costs\"</td>\n",
              "      <td>1st June 2022</td>\n",
              "      <td>True</td>\n",
              "      <td>Avoid at all costs. I booked flights to go f...</td>\n",
              "      <td>NaN</td>\n",
              "      <td>Solo Leisure</td>\n",
              "      <td>Economy Class</td>\n",
              "      <td>...</td>\n",
              "      <td>NaN</td>\n",
              "      <td>NaN</td>\n",
              "      <td>NaN</td>\n",
              "      <td>NaN</td>\n",
              "      <td>NaN</td>\n",
              "      <td>NaN</td>\n",
              "      <td>1.0</td>\n",
              "      <td>no</td>\n",
              "      <td>Singapore</td>\n",
              "      <td>Tokyo</td>\n",
              "    </tr>\n",
              "    <tr>\n",
              "      <th>19340</th>\n",
              "      <td>23168</td>\n",
              "      <td>ZIPAIR</td>\n",
              "      <td>3</td>\n",
              "      <td>\"Will not recommend to anyone\"</td>\n",
              "      <td>31st May 2022</td>\n",
              "      <td>True</td>\n",
              "      <td>Flight was leaving at 23.15 and after an hou...</td>\n",
              "      <td>NaN</td>\n",
              "      <td>Business</td>\n",
              "      <td>Economy Class</td>\n",
              "      <td>...</td>\n",
              "      <td>2.0</td>\n",
              "      <td>4.0</td>\n",
              "      <td>2.0</td>\n",
              "      <td>1.0</td>\n",
              "      <td>NaN</td>\n",
              "      <td>NaN</td>\n",
              "      <td>2.0</td>\n",
              "      <td>no</td>\n",
              "      <td>Bangkok</td>\n",
              "      <td>Tokyo</td>\n",
              "    </tr>\n",
              "  </tbody>\n",
              "</table>\n",
              "<p>19341 rows × 22 columns</p>\n",
              "</div>\n",
              "    <div class=\"colab-df-buttons\">\n",
              "\n",
              "  <div class=\"colab-df-container\">\n",
              "    <button class=\"colab-df-convert\" onclick=\"convertToInteractive('df-a6a61161-4555-4f26-910d-6aa7e7f91a88')\"\n",
              "            title=\"Convert this dataframe to an interactive table.\"\n",
              "            style=\"display:none;\">\n",
              "\n",
              "  <svg xmlns=\"http://www.w3.org/2000/svg\" height=\"24px\" viewBox=\"0 -960 960 960\">\n",
              "    <path d=\"M120-120v-720h720v720H120Zm60-500h600v-160H180v160Zm220 220h160v-160H400v160Zm0 220h160v-160H400v160ZM180-400h160v-160H180v160Zm440 0h160v-160H620v160ZM180-180h160v-160H180v160Zm440 0h160v-160H620v160Z\"/>\n",
              "  </svg>\n",
              "    </button>\n",
              "\n",
              "  <style>\n",
              "    .colab-df-container {\n",
              "      display:flex;\n",
              "      gap: 12px;\n",
              "    }\n",
              "\n",
              "    .colab-df-convert {\n",
              "      background-color: #E8F0FE;\n",
              "      border: none;\n",
              "      border-radius: 50%;\n",
              "      cursor: pointer;\n",
              "      display: none;\n",
              "      fill: #1967D2;\n",
              "      height: 32px;\n",
              "      padding: 0 0 0 0;\n",
              "      width: 32px;\n",
              "    }\n",
              "\n",
              "    .colab-df-convert:hover {\n",
              "      background-color: #E2EBFA;\n",
              "      box-shadow: 0px 1px 2px rgba(60, 64, 67, 0.3), 0px 1px 3px 1px rgba(60, 64, 67, 0.15);\n",
              "      fill: #174EA6;\n",
              "    }\n",
              "\n",
              "    .colab-df-buttons div {\n",
              "      margin-bottom: 4px;\n",
              "    }\n",
              "\n",
              "    [theme=dark] .colab-df-convert {\n",
              "      background-color: #3B4455;\n",
              "      fill: #D2E3FC;\n",
              "    }\n",
              "\n",
              "    [theme=dark] .colab-df-convert:hover {\n",
              "      background-color: #434B5C;\n",
              "      box-shadow: 0px 1px 3px 1px rgba(0, 0, 0, 0.15);\n",
              "      filter: drop-shadow(0px 1px 2px rgba(0, 0, 0, 0.3));\n",
              "      fill: #FFFFFF;\n",
              "    }\n",
              "  </style>\n",
              "\n",
              "    <script>\n",
              "      const buttonEl =\n",
              "        document.querySelector('#df-a6a61161-4555-4f26-910d-6aa7e7f91a88 button.colab-df-convert');\n",
              "      buttonEl.style.display =\n",
              "        google.colab.kernel.accessAllowed ? 'block' : 'none';\n",
              "\n",
              "      async function convertToInteractive(key) {\n",
              "        const element = document.querySelector('#df-a6a61161-4555-4f26-910d-6aa7e7f91a88');\n",
              "        const dataTable =\n",
              "          await google.colab.kernel.invokeFunction('convertToInteractive',\n",
              "                                                    [key], {});\n",
              "        if (!dataTable) return;\n",
              "\n",
              "        const docLinkHtml = 'Like what you see? Visit the ' +\n",
              "          '<a target=\"_blank\" href=https://colab.research.google.com/notebooks/data_table.ipynb>data table notebook</a>'\n",
              "          + ' to learn more about interactive tables.';\n",
              "        element.innerHTML = '';\n",
              "        dataTable['output_type'] = 'display_data';\n",
              "        await google.colab.output.renderOutput(dataTable, element);\n",
              "        const docLink = document.createElement('div');\n",
              "        docLink.innerHTML = docLinkHtml;\n",
              "        element.appendChild(docLink);\n",
              "      }\n",
              "    </script>\n",
              "  </div>\n",
              "\n",
              "\n",
              "<div id=\"df-0f18d491-ecee-434f-a077-2e691fe7f68a\">\n",
              "  <button class=\"colab-df-quickchart\" onclick=\"quickchart('df-0f18d491-ecee-434f-a077-2e691fe7f68a')\"\n",
              "            title=\"Suggest charts.\"\n",
              "            style=\"display:none;\">\n",
              "\n",
              "<svg xmlns=\"http://www.w3.org/2000/svg\" height=\"24px\"viewBox=\"0 0 24 24\"\n",
              "     width=\"24px\">\n",
              "    <g>\n",
              "        <path d=\"M19 3H5c-1.1 0-2 .9-2 2v14c0 1.1.9 2 2 2h14c1.1 0 2-.9 2-2V5c0-1.1-.9-2-2-2zM9 17H7v-7h2v7zm4 0h-2V7h2v10zm4 0h-2v-4h2v4z\"/>\n",
              "    </g>\n",
              "</svg>\n",
              "  </button>\n",
              "\n",
              "<style>\n",
              "  .colab-df-quickchart {\n",
              "      --bg-color: #E8F0FE;\n",
              "      --fill-color: #1967D2;\n",
              "      --hover-bg-color: #E2EBFA;\n",
              "      --hover-fill-color: #174EA6;\n",
              "      --disabled-fill-color: #AAA;\n",
              "      --disabled-bg-color: #DDD;\n",
              "  }\n",
              "\n",
              "  [theme=dark] .colab-df-quickchart {\n",
              "      --bg-color: #3B4455;\n",
              "      --fill-color: #D2E3FC;\n",
              "      --hover-bg-color: #434B5C;\n",
              "      --hover-fill-color: #FFFFFF;\n",
              "      --disabled-bg-color: #3B4455;\n",
              "      --disabled-fill-color: #666;\n",
              "  }\n",
              "\n",
              "  .colab-df-quickchart {\n",
              "    background-color: var(--bg-color);\n",
              "    border: none;\n",
              "    border-radius: 50%;\n",
              "    cursor: pointer;\n",
              "    display: none;\n",
              "    fill: var(--fill-color);\n",
              "    height: 32px;\n",
              "    padding: 0;\n",
              "    width: 32px;\n",
              "  }\n",
              "\n",
              "  .colab-df-quickchart:hover {\n",
              "    background-color: var(--hover-bg-color);\n",
              "    box-shadow: 0 1px 2px rgba(60, 64, 67, 0.3), 0 1px 3px 1px rgba(60, 64, 67, 0.15);\n",
              "    fill: var(--button-hover-fill-color);\n",
              "  }\n",
              "\n",
              "  .colab-df-quickchart-complete:disabled,\n",
              "  .colab-df-quickchart-complete:disabled:hover {\n",
              "    background-color: var(--disabled-bg-color);\n",
              "    fill: var(--disabled-fill-color);\n",
              "    box-shadow: none;\n",
              "  }\n",
              "\n",
              "  .colab-df-spinner {\n",
              "    border: 2px solid var(--fill-color);\n",
              "    border-color: transparent;\n",
              "    border-bottom-color: var(--fill-color);\n",
              "    animation:\n",
              "      spin 1s steps(1) infinite;\n",
              "  }\n",
              "\n",
              "  @keyframes spin {\n",
              "    0% {\n",
              "      border-color: transparent;\n",
              "      border-bottom-color: var(--fill-color);\n",
              "      border-left-color: var(--fill-color);\n",
              "    }\n",
              "    20% {\n",
              "      border-color: transparent;\n",
              "      border-left-color: var(--fill-color);\n",
              "      border-top-color: var(--fill-color);\n",
              "    }\n",
              "    30% {\n",
              "      border-color: transparent;\n",
              "      border-left-color: var(--fill-color);\n",
              "      border-top-color: var(--fill-color);\n",
              "      border-right-color: var(--fill-color);\n",
              "    }\n",
              "    40% {\n",
              "      border-color: transparent;\n",
              "      border-right-color: var(--fill-color);\n",
              "      border-top-color: var(--fill-color);\n",
              "    }\n",
              "    60% {\n",
              "      border-color: transparent;\n",
              "      border-right-color: var(--fill-color);\n",
              "    }\n",
              "    80% {\n",
              "      border-color: transparent;\n",
              "      border-right-color: var(--fill-color);\n",
              "      border-bottom-color: var(--fill-color);\n",
              "    }\n",
              "    90% {\n",
              "      border-color: transparent;\n",
              "      border-bottom-color: var(--fill-color);\n",
              "    }\n",
              "  }\n",
              "</style>\n",
              "\n",
              "  <script>\n",
              "    async function quickchart(key) {\n",
              "      const quickchartButtonEl =\n",
              "        document.querySelector('#' + key + ' button');\n",
              "      quickchartButtonEl.disabled = true;  // To prevent multiple clicks.\n",
              "      quickchartButtonEl.classList.add('colab-df-spinner');\n",
              "      try {\n",
              "        const charts = await google.colab.kernel.invokeFunction(\n",
              "            'suggestCharts', [key], {});\n",
              "      } catch (error) {\n",
              "        console.error('Error during call to suggestCharts:', error);\n",
              "      }\n",
              "      quickchartButtonEl.classList.remove('colab-df-spinner');\n",
              "      quickchartButtonEl.classList.add('colab-df-quickchart-complete');\n",
              "    }\n",
              "    (() => {\n",
              "      let quickchartButtonEl =\n",
              "        document.querySelector('#df-0f18d491-ecee-434f-a077-2e691fe7f68a button');\n",
              "      quickchartButtonEl.style.display =\n",
              "        google.colab.kernel.accessAllowed ? 'block' : 'none';\n",
              "    })();\n",
              "  </script>\n",
              "</div>\n",
              "    </div>\n",
              "  </div>\n"
            ]
          },
          "metadata": {},
          "execution_count": 20
        }
      ],
      "source": [
        "df.head(-2)"
      ]
    },
    {
      "cell_type": "code",
      "execution_count": null,
      "metadata": {
        "colab": {
          "base_uri": "https://localhost:8080/",
          "height": 35
        },
        "id": "0x_bZnlE53im",
        "outputId": "23fb4db6-1ce1-4bf9-ba7b-5ba2ff80cf36"
      },
      "outputs": [
        {
          "output_type": "execute_result",
          "data": {
            "text/plain": [
              "'Antalya to London via Istanbul'"
            ],
            "application/vnd.google.colaboratory.intrinsic+json": {
              "type": "string"
            }
          },
          "metadata": {},
          "execution_count": 21
        }
      ],
      "source": [
        "df['Route'][17667]"
      ]
    },
    {
      "cell_type": "code",
      "execution_count": null,
      "metadata": {
        "colab": {
          "base_uri": "https://localhost:8080/",
          "height": 35
        },
        "id": "g3Ff5d4h6M7S",
        "outputId": "8127f7c4-5bbc-4135-89dd-b9c48a21c218"
      },
      "outputs": [
        {
          "output_type": "execute_result",
          "data": {
            "text/plain": [
              "'Antalya'"
            ],
            "application/vnd.google.colaboratory.intrinsic+json": {
              "type": "string"
            }
          },
          "metadata": {},
          "execution_count": 22
        }
      ],
      "source": [
        "df['From'][17667]"
      ]
    },
    {
      "cell_type": "code",
      "execution_count": null,
      "metadata": {
        "id": "FqfTRzhY8CT3"
      },
      "outputs": [],
      "source": []
    },
    {
      "cell_type": "markdown",
      "metadata": {
        "id": "FRXrBzJu8DHt"
      },
      "source": [
        "Now we are creating a new dataframe called df1 with our useful columns"
      ]
    },
    {
      "cell_type": "code",
      "execution_count": null,
      "metadata": {
        "id": "jqAm-85Y8LgD"
      },
      "outputs": [],
      "source": [
        "df1=df[['Airline Name','Overall_Rating','Review_Title','Review','Type Of Traveller','Seat Type','Recommended','From','To']]"
      ]
    },
    {
      "cell_type": "code",
      "execution_count": null,
      "metadata": {
        "colab": {
          "base_uri": "https://localhost:8080/",
          "height": 206
        },
        "id": "2piKseCN8on4",
        "outputId": "a63c2ed5-3aee-49f6-a35b-2c78e173d917"
      },
      "outputs": [
        {
          "output_type": "execute_result",
          "data": {
            "text/plain": [
              "    Airline Name Overall_Rating                           Review_Title  \\\n",
              "0    AB Aviation              9                \"pretty decent airline\"   \n",
              "1    AB Aviation              1                   \"Not a good airline\"   \n",
              "2    AB Aviation              1         \"flight was fortunately short\"   \n",
              "3  Adria Airways              1    \"I will never fly again with Adria\"   \n",
              "4  Adria Airways              1  \"it ruined our last days of holidays\"   \n",
              "\n",
              "                                              Review Type Of Traveller  \\\n",
              "0    Moroni to Moheli. Turned out to be a pretty ...      Solo Leisure   \n",
              "1   Moroni to Anjouan. It is a very small airline...      Solo Leisure   \n",
              "2    Anjouan to Dzaoudzi. A very small airline an...      Solo Leisure   \n",
              "3    Please do a favor yourself and do not fly wi...      Solo Leisure   \n",
              "4   Do not book a flight with this airline! My fr...    Couple Leisure   \n",
              "\n",
              "       Seat Type Recommended       From          To  \n",
              "0  Economy Class         yes     Moroni      Moheli  \n",
              "1  Economy Class          no     Moroni     Anjouan  \n",
              "2  Economy Class          no    Anjouan    Dzaoudzi  \n",
              "3  Economy Class          no  Frankfurt    Pristina  \n",
              "4  Economy Class          no      Sofia  Amsterdam   "
            ],
            "text/html": [
              "\n",
              "  <div id=\"df-471fcdba-64c7-4dd3-ba8e-3c072ccab38b\" class=\"colab-df-container\">\n",
              "    <div>\n",
              "<style scoped>\n",
              "    .dataframe tbody tr th:only-of-type {\n",
              "        vertical-align: middle;\n",
              "    }\n",
              "\n",
              "    .dataframe tbody tr th {\n",
              "        vertical-align: top;\n",
              "    }\n",
              "\n",
              "    .dataframe thead th {\n",
              "        text-align: right;\n",
              "    }\n",
              "</style>\n",
              "<table border=\"1\" class=\"dataframe\">\n",
              "  <thead>\n",
              "    <tr style=\"text-align: right;\">\n",
              "      <th></th>\n",
              "      <th>Airline Name</th>\n",
              "      <th>Overall_Rating</th>\n",
              "      <th>Review_Title</th>\n",
              "      <th>Review</th>\n",
              "      <th>Type Of Traveller</th>\n",
              "      <th>Seat Type</th>\n",
              "      <th>Recommended</th>\n",
              "      <th>From</th>\n",
              "      <th>To</th>\n",
              "    </tr>\n",
              "  </thead>\n",
              "  <tbody>\n",
              "    <tr>\n",
              "      <th>0</th>\n",
              "      <td>AB Aviation</td>\n",
              "      <td>9</td>\n",
              "      <td>\"pretty decent airline\"</td>\n",
              "      <td>Moroni to Moheli. Turned out to be a pretty ...</td>\n",
              "      <td>Solo Leisure</td>\n",
              "      <td>Economy Class</td>\n",
              "      <td>yes</td>\n",
              "      <td>Moroni</td>\n",
              "      <td>Moheli</td>\n",
              "    </tr>\n",
              "    <tr>\n",
              "      <th>1</th>\n",
              "      <td>AB Aviation</td>\n",
              "      <td>1</td>\n",
              "      <td>\"Not a good airline\"</td>\n",
              "      <td>Moroni to Anjouan. It is a very small airline...</td>\n",
              "      <td>Solo Leisure</td>\n",
              "      <td>Economy Class</td>\n",
              "      <td>no</td>\n",
              "      <td>Moroni</td>\n",
              "      <td>Anjouan</td>\n",
              "    </tr>\n",
              "    <tr>\n",
              "      <th>2</th>\n",
              "      <td>AB Aviation</td>\n",
              "      <td>1</td>\n",
              "      <td>\"flight was fortunately short\"</td>\n",
              "      <td>Anjouan to Dzaoudzi. A very small airline an...</td>\n",
              "      <td>Solo Leisure</td>\n",
              "      <td>Economy Class</td>\n",
              "      <td>no</td>\n",
              "      <td>Anjouan</td>\n",
              "      <td>Dzaoudzi</td>\n",
              "    </tr>\n",
              "    <tr>\n",
              "      <th>3</th>\n",
              "      <td>Adria Airways</td>\n",
              "      <td>1</td>\n",
              "      <td>\"I will never fly again with Adria\"</td>\n",
              "      <td>Please do a favor yourself and do not fly wi...</td>\n",
              "      <td>Solo Leisure</td>\n",
              "      <td>Economy Class</td>\n",
              "      <td>no</td>\n",
              "      <td>Frankfurt</td>\n",
              "      <td>Pristina</td>\n",
              "    </tr>\n",
              "    <tr>\n",
              "      <th>4</th>\n",
              "      <td>Adria Airways</td>\n",
              "      <td>1</td>\n",
              "      <td>\"it ruined our last days of holidays\"</td>\n",
              "      <td>Do not book a flight with this airline! My fr...</td>\n",
              "      <td>Couple Leisure</td>\n",
              "      <td>Economy Class</td>\n",
              "      <td>no</td>\n",
              "      <td>Sofia</td>\n",
              "      <td>Amsterdam</td>\n",
              "    </tr>\n",
              "  </tbody>\n",
              "</table>\n",
              "</div>\n",
              "    <div class=\"colab-df-buttons\">\n",
              "\n",
              "  <div class=\"colab-df-container\">\n",
              "    <button class=\"colab-df-convert\" onclick=\"convertToInteractive('df-471fcdba-64c7-4dd3-ba8e-3c072ccab38b')\"\n",
              "            title=\"Convert this dataframe to an interactive table.\"\n",
              "            style=\"display:none;\">\n",
              "\n",
              "  <svg xmlns=\"http://www.w3.org/2000/svg\" height=\"24px\" viewBox=\"0 -960 960 960\">\n",
              "    <path d=\"M120-120v-720h720v720H120Zm60-500h600v-160H180v160Zm220 220h160v-160H400v160Zm0 220h160v-160H400v160ZM180-400h160v-160H180v160Zm440 0h160v-160H620v160ZM180-180h160v-160H180v160Zm440 0h160v-160H620v160Z\"/>\n",
              "  </svg>\n",
              "    </button>\n",
              "\n",
              "  <style>\n",
              "    .colab-df-container {\n",
              "      display:flex;\n",
              "      gap: 12px;\n",
              "    }\n",
              "\n",
              "    .colab-df-convert {\n",
              "      background-color: #E8F0FE;\n",
              "      border: none;\n",
              "      border-radius: 50%;\n",
              "      cursor: pointer;\n",
              "      display: none;\n",
              "      fill: #1967D2;\n",
              "      height: 32px;\n",
              "      padding: 0 0 0 0;\n",
              "      width: 32px;\n",
              "    }\n",
              "\n",
              "    .colab-df-convert:hover {\n",
              "      background-color: #E2EBFA;\n",
              "      box-shadow: 0px 1px 2px rgba(60, 64, 67, 0.3), 0px 1px 3px 1px rgba(60, 64, 67, 0.15);\n",
              "      fill: #174EA6;\n",
              "    }\n",
              "\n",
              "    .colab-df-buttons div {\n",
              "      margin-bottom: 4px;\n",
              "    }\n",
              "\n",
              "    [theme=dark] .colab-df-convert {\n",
              "      background-color: #3B4455;\n",
              "      fill: #D2E3FC;\n",
              "    }\n",
              "\n",
              "    [theme=dark] .colab-df-convert:hover {\n",
              "      background-color: #434B5C;\n",
              "      box-shadow: 0px 1px 3px 1px rgba(0, 0, 0, 0.15);\n",
              "      filter: drop-shadow(0px 1px 2px rgba(0, 0, 0, 0.3));\n",
              "      fill: #FFFFFF;\n",
              "    }\n",
              "  </style>\n",
              "\n",
              "    <script>\n",
              "      const buttonEl =\n",
              "        document.querySelector('#df-471fcdba-64c7-4dd3-ba8e-3c072ccab38b button.colab-df-convert');\n",
              "      buttonEl.style.display =\n",
              "        google.colab.kernel.accessAllowed ? 'block' : 'none';\n",
              "\n",
              "      async function convertToInteractive(key) {\n",
              "        const element = document.querySelector('#df-471fcdba-64c7-4dd3-ba8e-3c072ccab38b');\n",
              "        const dataTable =\n",
              "          await google.colab.kernel.invokeFunction('convertToInteractive',\n",
              "                                                    [key], {});\n",
              "        if (!dataTable) return;\n",
              "\n",
              "        const docLinkHtml = 'Like what you see? Visit the ' +\n",
              "          '<a target=\"_blank\" href=https://colab.research.google.com/notebooks/data_table.ipynb>data table notebook</a>'\n",
              "          + ' to learn more about interactive tables.';\n",
              "        element.innerHTML = '';\n",
              "        dataTable['output_type'] = 'display_data';\n",
              "        await google.colab.output.renderOutput(dataTable, element);\n",
              "        const docLink = document.createElement('div');\n",
              "        docLink.innerHTML = docLinkHtml;\n",
              "        element.appendChild(docLink);\n",
              "      }\n",
              "    </script>\n",
              "  </div>\n",
              "\n",
              "\n",
              "<div id=\"df-b681e1b1-4fd6-44c7-88d3-482ccba8425d\">\n",
              "  <button class=\"colab-df-quickchart\" onclick=\"quickchart('df-b681e1b1-4fd6-44c7-88d3-482ccba8425d')\"\n",
              "            title=\"Suggest charts.\"\n",
              "            style=\"display:none;\">\n",
              "\n",
              "<svg xmlns=\"http://www.w3.org/2000/svg\" height=\"24px\"viewBox=\"0 0 24 24\"\n",
              "     width=\"24px\">\n",
              "    <g>\n",
              "        <path d=\"M19 3H5c-1.1 0-2 .9-2 2v14c0 1.1.9 2 2 2h14c1.1 0 2-.9 2-2V5c0-1.1-.9-2-2-2zM9 17H7v-7h2v7zm4 0h-2V7h2v10zm4 0h-2v-4h2v4z\"/>\n",
              "    </g>\n",
              "</svg>\n",
              "  </button>\n",
              "\n",
              "<style>\n",
              "  .colab-df-quickchart {\n",
              "      --bg-color: #E8F0FE;\n",
              "      --fill-color: #1967D2;\n",
              "      --hover-bg-color: #E2EBFA;\n",
              "      --hover-fill-color: #174EA6;\n",
              "      --disabled-fill-color: #AAA;\n",
              "      --disabled-bg-color: #DDD;\n",
              "  }\n",
              "\n",
              "  [theme=dark] .colab-df-quickchart {\n",
              "      --bg-color: #3B4455;\n",
              "      --fill-color: #D2E3FC;\n",
              "      --hover-bg-color: #434B5C;\n",
              "      --hover-fill-color: #FFFFFF;\n",
              "      --disabled-bg-color: #3B4455;\n",
              "      --disabled-fill-color: #666;\n",
              "  }\n",
              "\n",
              "  .colab-df-quickchart {\n",
              "    background-color: var(--bg-color);\n",
              "    border: none;\n",
              "    border-radius: 50%;\n",
              "    cursor: pointer;\n",
              "    display: none;\n",
              "    fill: var(--fill-color);\n",
              "    height: 32px;\n",
              "    padding: 0;\n",
              "    width: 32px;\n",
              "  }\n",
              "\n",
              "  .colab-df-quickchart:hover {\n",
              "    background-color: var(--hover-bg-color);\n",
              "    box-shadow: 0 1px 2px rgba(60, 64, 67, 0.3), 0 1px 3px 1px rgba(60, 64, 67, 0.15);\n",
              "    fill: var(--button-hover-fill-color);\n",
              "  }\n",
              "\n",
              "  .colab-df-quickchart-complete:disabled,\n",
              "  .colab-df-quickchart-complete:disabled:hover {\n",
              "    background-color: var(--disabled-bg-color);\n",
              "    fill: var(--disabled-fill-color);\n",
              "    box-shadow: none;\n",
              "  }\n",
              "\n",
              "  .colab-df-spinner {\n",
              "    border: 2px solid var(--fill-color);\n",
              "    border-color: transparent;\n",
              "    border-bottom-color: var(--fill-color);\n",
              "    animation:\n",
              "      spin 1s steps(1) infinite;\n",
              "  }\n",
              "\n",
              "  @keyframes spin {\n",
              "    0% {\n",
              "      border-color: transparent;\n",
              "      border-bottom-color: var(--fill-color);\n",
              "      border-left-color: var(--fill-color);\n",
              "    }\n",
              "    20% {\n",
              "      border-color: transparent;\n",
              "      border-left-color: var(--fill-color);\n",
              "      border-top-color: var(--fill-color);\n",
              "    }\n",
              "    30% {\n",
              "      border-color: transparent;\n",
              "      border-left-color: var(--fill-color);\n",
              "      border-top-color: var(--fill-color);\n",
              "      border-right-color: var(--fill-color);\n",
              "    }\n",
              "    40% {\n",
              "      border-color: transparent;\n",
              "      border-right-color: var(--fill-color);\n",
              "      border-top-color: var(--fill-color);\n",
              "    }\n",
              "    60% {\n",
              "      border-color: transparent;\n",
              "      border-right-color: var(--fill-color);\n",
              "    }\n",
              "    80% {\n",
              "      border-color: transparent;\n",
              "      border-right-color: var(--fill-color);\n",
              "      border-bottom-color: var(--fill-color);\n",
              "    }\n",
              "    90% {\n",
              "      border-color: transparent;\n",
              "      border-bottom-color: var(--fill-color);\n",
              "    }\n",
              "  }\n",
              "</style>\n",
              "\n",
              "  <script>\n",
              "    async function quickchart(key) {\n",
              "      const quickchartButtonEl =\n",
              "        document.querySelector('#' + key + ' button');\n",
              "      quickchartButtonEl.disabled = true;  // To prevent multiple clicks.\n",
              "      quickchartButtonEl.classList.add('colab-df-spinner');\n",
              "      try {\n",
              "        const charts = await google.colab.kernel.invokeFunction(\n",
              "            'suggestCharts', [key], {});\n",
              "      } catch (error) {\n",
              "        console.error('Error during call to suggestCharts:', error);\n",
              "      }\n",
              "      quickchartButtonEl.classList.remove('colab-df-spinner');\n",
              "      quickchartButtonEl.classList.add('colab-df-quickchart-complete');\n",
              "    }\n",
              "    (() => {\n",
              "      let quickchartButtonEl =\n",
              "        document.querySelector('#df-b681e1b1-4fd6-44c7-88d3-482ccba8425d button');\n",
              "      quickchartButtonEl.style.display =\n",
              "        google.colab.kernel.accessAllowed ? 'block' : 'none';\n",
              "    })();\n",
              "  </script>\n",
              "</div>\n",
              "    </div>\n",
              "  </div>\n"
            ]
          },
          "metadata": {},
          "execution_count": 24
        }
      ],
      "source": [
        "df1.head()"
      ]
    },
    {
      "cell_type": "code",
      "execution_count": null,
      "metadata": {
        "colab": {
          "base_uri": "https://localhost:8080/"
        },
        "id": "z2zr-Ysp1kfO",
        "outputId": "f8d00cca-a7e2-4396-ed45-1b933253c5d7"
      },
      "outputs": [
        {
          "output_type": "stream",
          "name": "stdout",
          "text": [
            "Drive already mounted at /content/drive; to attempt to forcibly remount, call drive.mount(\"/content/drive\", force_remount=True).\n"
          ]
        }
      ],
      "source": [
        "drive.mount('/content/drive')\n",
        "path = '/content/drive/MyDrive/Colab Notebooks/Airline_Cleaned_Dataset.csv'\n",
        "with open(path, 'w', encoding = 'utf-8-sig') as f:\n",
        "  df1.to_csv(f)"
      ]
    },
    {
      "cell_type": "code",
      "execution_count": null,
      "metadata": {
        "colab": {
          "base_uri": "https://localhost:8080/"
        },
        "id": "wGBA7ASY8y-i",
        "outputId": "4b1d7460-8929-4850-8227-9133a1204414"
      },
      "outputs": [
        {
          "output_type": "stream",
          "name": "stdout",
          "text": [
            "<class 'pandas.core.frame.DataFrame'>\n",
            "RangeIndex: 19338 entries, 0 to 19337\n",
            "Data columns (total 9 columns):\n",
            " #   Column             Non-Null Count  Dtype \n",
            "---  ------             --------------  ----- \n",
            " 0   Airline Name       19338 non-null  object\n",
            " 1   Overall_Rating     19338 non-null  object\n",
            " 2   Review_Title       19338 non-null  object\n",
            " 3   Review             19338 non-null  object\n",
            " 4   Type Of Traveller  19338 non-null  object\n",
            " 5   Seat Type          19338 non-null  object\n",
            " 6   Recommended        19338 non-null  object\n",
            " 7   From               19338 non-null  object\n",
            " 8   To                 19338 non-null  object\n",
            "dtypes: object(9)\n",
            "memory usage: 1.3+ MB\n"
          ]
        }
      ],
      "source": [
        "df1.info()"
      ]
    },
    {
      "cell_type": "code",
      "execution_count": null,
      "metadata": {
        "colab": {
          "base_uri": "https://localhost:8080/"
        },
        "id": "zNE8fm03-aOx",
        "outputId": "2c92ac38-5a51-4c5a-d2c8-b116ec2fb52e"
      },
      "outputs": [
        {
          "output_type": "execute_result",
          "data": {
            "text/plain": [
              "Airline Name         0\n",
              "Overall_Rating       0\n",
              "Review_Title         0\n",
              "Review               0\n",
              "Type Of Traveller    2\n",
              "Seat Type            3\n",
              "Recommended          0\n",
              "From                 0\n",
              "To                   0\n",
              "dtype: int64"
            ]
          },
          "metadata": {},
          "execution_count": 27
        }
      ],
      "source": [
        "df1.isna().sum()"
      ]
    },
    {
      "cell_type": "code",
      "execution_count": null,
      "metadata": {
        "colab": {
          "base_uri": "https://localhost:8080/"
        },
        "id": "Hnkc_sUq-ifG",
        "outputId": "e3e39513-fabd-4f73-f453-d8069ccc1e16"
      },
      "outputs": [
        {
          "output_type": "stream",
          "name": "stderr",
          "text": [
            "<ipython-input-28-e0e758ddcf8a>:1: SettingWithCopyWarning: \n",
            "A value is trying to be set on a copy of a slice from a DataFrame\n",
            "\n",
            "See the caveats in the documentation: https://pandas.pydata.org/pandas-docs/stable/user_guide/indexing.html#returning-a-view-versus-a-copy\n",
            "  df1.dropna(inplace=True)\n"
          ]
        }
      ],
      "source": [
        "df1.dropna(inplace=True)"
      ]
    },
    {
      "cell_type": "code",
      "execution_count": null,
      "metadata": {
        "id": "A79qcbFGqeIF"
      },
      "outputs": [],
      "source": [
        "df1.reset_index(drop=True,inplace=True)"
      ]
    },
    {
      "cell_type": "markdown",
      "metadata": {
        "id": "XFzBjJun_SMA"
      },
      "source": [
        "Now our datset is prety good we dealt with the missing values and preprocessed our dataset based on our requirements"
      ]
    },
    {
      "cell_type": "markdown",
      "metadata": {
        "id": "rCMyElj6_sbw"
      },
      "source": [
        "#**EXPLORATORY DATA ANALYSIS**"
      ]
    },
    {
      "cell_type": "code",
      "execution_count": null,
      "metadata": {
        "id": "ZMFWtsal_yeC"
      },
      "outputs": [],
      "source": [
        "import matplotlib.pyplot as plt"
      ]
    },
    {
      "cell_type": "code",
      "execution_count": null,
      "metadata": {
        "id": "k_kHVHpBDVjm"
      },
      "outputs": [],
      "source": [
        "df.drop(columns=['Aircraft','Review Date','Aircraft','Date Flown'],inplace=True)"
      ]
    },
    {
      "cell_type": "code",
      "execution_count": null,
      "metadata": {
        "colab": {
          "base_uri": "https://localhost:8080/"
        },
        "id": "8aWA1fV1ATnW",
        "outputId": "807c26e0-6f03-4252-9196-20e0165ee2a1"
      },
      "outputs": [
        {
          "output_type": "execute_result",
          "data": {
            "text/plain": [
              "Unnamed: 0                    0\n",
              "Airline Name                  0\n",
              "Overall_Rating                0\n",
              "Review_Title                  0\n",
              "Verified                      0\n",
              "Review                        0\n",
              "Type Of Traveller             2\n",
              "Seat Type                     3\n",
              "Route                         0\n",
              "Seat Comfort               1771\n",
              "Cabin Staff Service        1876\n",
              "Food & Beverages           6268\n",
              "Ground Service             1031\n",
              "Inflight Entertainment     9903\n",
              "Wifi & Connectivity       13451\n",
              "Value For Money               3\n",
              "Recommended                   0\n",
              "From                          0\n",
              "To                            0\n",
              "dtype: int64"
            ]
          },
          "metadata": {},
          "execution_count": 109
        }
      ],
      "source": [
        "df.isna().sum()"
      ]
    },
    {
      "cell_type": "markdown",
      "metadata": {
        "id": "h2tpRPxOyLNb"
      },
      "source": [
        "#We want to study and plot the best rated Airlines"
      ]
    },
    {
      "cell_type": "code",
      "execution_count": null,
      "metadata": {
        "id": "gg_usdEWfq2O"
      },
      "outputs": [],
      "source": [
        "rating_of_aeroplane={}\n",
        "def Rating_calculator(data):\n",
        "  if data.iloc[0] not in rating_of_aeroplane:\n",
        "    rating_of_aeroplane[data.iloc[0]]=[int(data.iloc[1]),1]\n",
        "  else:\n",
        "    rating_of_aeroplane[data.iloc[0]][0]+=int(data.iloc[1])\n",
        "    rating_of_aeroplane[data.iloc[0]][1]+=1"
      ]
    },
    {
      "cell_type": "code",
      "execution_count": null,
      "metadata": {
        "colab": {
          "base_uri": "https://localhost:8080/"
        },
        "id": "IXpDnfl9chbO",
        "outputId": "1a37ebfa-4157-4d71-d909-a175a8ef1e15"
      },
      "outputs": [
        {
          "output_type": "execute_result",
          "data": {
            "text/plain": [
              "0        None\n",
              "1        None\n",
              "2        None\n",
              "3        None\n",
              "4        None\n",
              "         ... \n",
              "19338    None\n",
              "19339    None\n",
              "19340    None\n",
              "19341    None\n",
              "19342    None\n",
              "Length: 19343, dtype: object"
            ]
          },
          "metadata": {},
          "execution_count": 111
        }
      ],
      "source": [
        "df.iloc[:,[1,2]].apply(Rating_calculator,axis=1)"
      ]
    },
    {
      "cell_type": "code",
      "execution_count": null,
      "metadata": {
        "id": "kSqWytygKUeE"
      },
      "outputs": [],
      "source": [
        "rating_of_aeroplane"
      ]
    },
    {
      "cell_type": "code",
      "execution_count": null,
      "metadata": {
        "id": "Ao4jWgXpL59q"
      },
      "outputs": [],
      "source": [
        "for item in rating_of_aeroplane:\n",
        "  score=rating_of_aeroplane[item]\n",
        "  avg_rate=0\n",
        "  if score[1]>25:\n",
        "    avg_rate=score[0]/score[1]\n",
        "    rating_of_aeroplane[item]=avg_rate\n",
        "  else:\n",
        "    rating_of_aeroplane[item]=avg_rate"
      ]
    },
    {
      "cell_type": "code",
      "execution_count": null,
      "metadata": {
        "id": "b7FHja_QrPkM"
      },
      "outputs": [],
      "source": [
        "rating_of_aeroplane"
      ]
    },
    {
      "cell_type": "code",
      "execution_count": null,
      "metadata": {
        "id": "RnAH6vKXyH2w"
      },
      "outputs": [],
      "source": [
        "sorted_ratings = sorted(rating_of_aeroplane.items(), key=lambda item: item[1],reverse=True)\n",
        "top_5_airlines = sorted_ratings[:10]\n",
        "airline=[]\n",
        "score=[]\n",
        "for i in top_5_airlines:\n",
        "  airline.append(i[0])\n",
        "  score.append(i[1])"
      ]
    },
    {
      "cell_type": "code",
      "execution_count": null,
      "metadata": {
        "colab": {
          "base_uri": "https://localhost:8080/",
          "height": 564
        },
        "id": "hxifZzTu1AA_",
        "outputId": "f4d173d2-c75b-4890-f78a-04cc37364694"
      },
      "outputs": [
        {
          "output_type": "display_data",
          "data": {
            "text/plain": [
              "<Figure size 2000x600 with 1 Axes>"
            ],
            "image/png": "[encoded data removed]"
          },
          "metadata": {}
        }
      ],
      "source": [
        "plt.figure(figsize=[20,6])\n",
        "plt.plot(airline,score,marker='*',color='red')\n",
        "plt.ylim(0,max(score))\n",
        "for i in range(len(airline)):\n",
        "\n",
        "    plt.text(airline[i], score[i], f'({score[i]:.2f})')\n",
        "plt.xlabel('Airline')\n",
        "plt.ylabel('Rating')\n",
        "plt.title('Best 10 Airlines based on overall rating')\n",
        "plt.show()"
      ]
    },
    {
      "cell_type": "markdown",
      "source": [
        "# Findings\n",
        "1. From the lineplot it is clear that based on the overall rating of the users China Southern Airlines shows the best performance\n",
        "2. Followed by Cathay Dragon, Dragonair, Citilink, Lao Airlines, Nepal Airlines"
      ],
      "metadata": {
        "id": "EqeGqhDmQPXW"
      }
    },
    {
      "cell_type": "markdown",
      "metadata": {
        "id": "BJkijHrLecjR"
      },
      "source": [
        "# Now we need to find the most recommended airline."
      ]
    },
    {
      "cell_type": "code",
      "execution_count": null,
      "metadata": {
        "id": "egBY9M6z4wmx"
      },
      "outputs": [],
      "source": [
        "recomendation_counts=df['Airline Name'][df['Recommended']=='yes'].value_counts()"
      ]
    },
    {
      "cell_type": "code",
      "execution_count": null,
      "metadata": {
        "colab": {
          "base_uri": "https://localhost:8080/"
        },
        "id": "PG2nIoaOBKDI",
        "outputId": "e0bdaf44-152d-48f3-be1b-5a0fb2310108"
      },
      "outputs": [
        {
          "output_type": "execute_result",
          "data": {
            "text/plain": [
              "China Southern Airlines    98\n",
              "Hainan Airlines            87\n",
              "ANA All Nippon Airways     78\n",
              "Garuda Indonesia           73\n",
              "Bangkok Airways            72\n",
              "Name: Airline Name, dtype: int64"
            ]
          },
          "metadata": {},
          "execution_count": 118
        }
      ],
      "source": [
        "recomendation_counts.head()"
      ]
    },
    {
      "cell_type": "code",
      "execution_count": null,
      "metadata": {
        "colab": {
          "base_uri": "https://localhost:8080/",
          "height": 406
        },
        "id": "GitKAOE8CFnX",
        "outputId": "e76c4422-f17e-4a92-c780-83fe3938cb29"
      },
      "outputs": [
        {
          "output_type": "display_data",
          "data": {
            "text/plain": [
              "<Figure size 640x480 with 1 Axes>"
            ],
            "image/png": "[encoded data removed]"
          },
          "metadata": {}
        }
      ],
      "source": [
        "plt.pie(recomendation_counts.head(),labels=recomendation_counts.head().index,explode=[0.1,0,0,0,0],autopct='%1.2f%%')\n",
        "plt.show()"
      ]
    },
    {
      "cell_type": "markdown",
      "metadata": {
        "id": "GcpY_FQCDT7N"
      },
      "source": [
        "# Findings\n",
        "1. From the pie chart it is clear that most of the users recommended China Southern Airlines\n",
        "2. Followed by Hanan Airlines, ANA All Nippon Airways"
      ]
    },
    {
      "cell_type": "code",
      "execution_count": null,
      "metadata": {
        "colab": {
          "base_uri": "https://localhost:8080/"
        },
        "id": "pJSkNM3mDBUu",
        "outputId": "846d0b8d-7ee9-4c46-b6a4-4ba9a5d19316"
      },
      "outputs": [
        {
          "output_type": "execute_result",
          "data": {
            "text/plain": [
              "SkyWork Airlines      1\n",
              "SkyUp Airlines        1\n",
              "Skytrans Airlines     1\n",
              "Grand Cru Airlines    1\n",
              "AB Aviation           1\n",
              "Name: Airline Name, dtype: int64"
            ]
          },
          "metadata": {},
          "execution_count": 120
        }
      ],
      "source": [
        "recomendation_counts.tail()"
      ]
    },
    {
      "cell_type": "markdown",
      "metadata": {
        "id": "uTBA-Cdueq87"
      },
      "source": [
        "## **Now we can analyse the intrests of different types of travelers**"
      ]
    },
    {
      "cell_type": "code",
      "execution_count": null,
      "metadata": {
        "colab": {
          "base_uri": "https://localhost:8080/"
        },
        "id": "ZZ7brk5ODrI1",
        "outputId": "a1073b69-b822-426b-99b7-40b9ce541ac1"
      },
      "outputs": [
        {
          "output_type": "execute_result",
          "data": {
            "text/plain": [
              "array(['Solo Leisure', 'Couple Leisure', 'Business', 'Family Leisure',\n",
              "       nan], dtype=object)"
            ]
          },
          "metadata": {},
          "execution_count": 121
        }
      ],
      "source": [
        "df['Type Of Traveller'].unique()"
      ]
    },
    {
      "cell_type": "code",
      "execution_count": null,
      "metadata": {
        "id": "npGFQvvqG-QM"
      },
      "outputs": [],
      "source": [
        "rec_counts_Solo_Leisure=df['Airline Name'][(df['Type Of Traveller']=='Solo Leisure') & (df['Recommended']=='yes')].value_counts()"
      ]
    },
    {
      "cell_type": "code",
      "execution_count": null,
      "metadata": {
        "colab": {
          "base_uri": "https://localhost:8080/"
        },
        "id": "tON5cTcKHmGc",
        "outputId": "220d4961-edce-46d5-94a2-7c711c8d7dbd"
      },
      "outputs": [
        {
          "output_type": "execute_result",
          "data": {
            "text/plain": [
              "Hainan Airlines            48\n",
              "China Southern Airlines    47\n",
              "Garuda Indonesia           43\n",
              "Virgin Australia           37\n",
              "Qatar Airways              36\n",
              "                           ..\n",
              "Insel Air                   1\n",
              "SkyWest Airlines            1\n",
              "Skytrans Airlines           1\n",
              "Iraqi Airways               1\n",
              "AB Aviation                 1\n",
              "Name: Airline Name, Length: 360, dtype: int64"
            ]
          },
          "metadata": {},
          "execution_count": 123
        }
      ],
      "source": [
        "rec_counts_Solo_Leisure"
      ]
    },
    {
      "cell_type": "code",
      "execution_count": null,
      "metadata": {
        "colab": {
          "base_uri": "https://localhost:8080/",
          "height": 406
        },
        "id": "XdG-rYeIHo-S",
        "outputId": "b883e357-ea74-48ab-d165-6a9c5caac266"
      },
      "outputs": [
        {
          "output_type": "display_data",
          "data": {
            "text/plain": [
              "<Figure size 640x480 with 1 Axes>"
            ],
            "image/png": "[encoded data removed]"
          },
          "metadata": {}
        }
      ],
      "source": [
        "plt.pie(rec_counts_Solo_Leisure.head(),labels=rec_counts_Solo_Leisure.head().index,explode=[0.1,0,0,0,0],autopct='%1.1f%%')\n",
        "plt.show()"
      ]
    },
    {
      "cell_type": "markdown",
      "source": [
        "# Findings\n",
        "1.Solo Leisure type of travellers are prefering Hainan Airlines\n",
        "\n",
        "2.Followed by China Southern Airlines and Garuda Indonesia"
      ],
      "metadata": {
        "id": "WAteBvvDG-iQ"
      }
    },
    {
      "cell_type": "markdown",
      "source": [
        "# Now I want to know the best things why Solo Leisure type travellers prefer Hainan Airlines"
      ],
      "metadata": {
        "id": "9R5MNjUnI126"
      }
    },
    {
      "cell_type": "code",
      "source": [
        "import nltk,re\n",
        "from nltk.corpus import stopwords\n",
        "nltk.download('stopwords')\n",
        "nltk.download('wordnet')\n",
        "from nltk.stem import WordNetLemmatizer\n",
        "lem=WordNetLemmatizer()"
      ],
      "metadata": {
        "colab": {
          "base_uri": "https://localhost:8080/"
        },
        "id": "IlRax2oPLhue",
        "outputId": "327f4175-ce85-4222-9594-3e027d031cd8"
      },
      "execution_count": null,
      "outputs": [
        {
          "output_type": "stream",
          "name": "stderr",
          "text": [
            "[nltk_data] Downloading package stopwords to /root/nltk_data...\n",
            "[nltk_data]   Unzipping corpora/stopwords.zip.\n",
            "[nltk_data] Downloading package wordnet to /root/nltk_data...\n"
          ]
        }
      ]
    },
    {
      "cell_type": "code",
      "source": [
        "def generate_N_grams(text,ngram=1):\n",
        "  text=re.sub('[^a-zA-Z]',' ',text)\n",
        "  text=text.lower()\n",
        "  text=text.split()\n",
        "  words=[lem.lemmatize(word) for word in text if word not in set(stopwords.words('english'))]\n",
        "  temp=zip(*[words[i:] for i in range(0,ngram)])\n",
        "  ans=[' '.join(ngram) for ngram in temp]\n",
        "  return ans"
      ],
      "metadata": {
        "id": "mz-rj_0tK2dv"
      },
      "execution_count": null,
      "outputs": []
    },
    {
      "cell_type": "code",
      "source": [
        "from collections import defaultdict\n",
        "positives=defaultdict(int)\n",
        "positives"
      ],
      "metadata": {
        "colab": {
          "base_uri": "https://localhost:8080/"
        },
        "id": "MWWv2DCdMHlv",
        "outputId": "5d4ae28c-b936-4fc3-c5ac-f097884d57e4"
      },
      "execution_count": null,
      "outputs": [
        {
          "output_type": "execute_result",
          "data": {
            "text/plain": [
              "defaultdict(int, {})"
            ]
          },
          "metadata": {},
          "execution_count": 46
        }
      ]
    },
    {
      "cell_type": "code",
      "source": [
        "import matplotlib.pyplot as plt\n",
        "def user_positives(df,airline,traveller):\n",
        "  positives=defaultdict(int)\n",
        "  extracted_df=df[(df['Airline Name']==airline) & (df['Type Of Traveller']==traveller) & (df['Recommended']=='yes')]\n",
        "  for review in extracted_df['Review']:\n",
        "    for word in generate_N_grams(review,2):\n",
        "      positives[word]+=1\n",
        "  positives=pd.DataFrame(sorted(positives.items(),key=lambda x:x[1],reverse=True))\n",
        "  plt.figure(figsize=(16,7))\n",
        "  plt.bar(positives[0][:10],positives[1][:10],color='green')"
      ],
      "metadata": {
        "id": "W2T9_eqgX3w-"
      },
      "execution_count": null,
      "outputs": []
    },
    {
      "cell_type": "code",
      "source": [
        "positives=user_positives(df1,'Hainan Airlines','Solo Leisure')"
      ],
      "metadata": {
        "colab": {
          "base_uri": "https://localhost:8080/",
          "height": 599
        },
        "id": "Qp6hlsAjL-kS",
        "outputId": "b9ff124f-dc81-447e-f631-bf63ee513408"
      },
      "execution_count": null,
      "outputs": [
        {
          "output_type": "display_data",
          "data": {
            "text/plain": [
              "<Figure size 1600x700 with 1 Axes>"
            ],
            "image/png": "[encoded data removed]"
          },
          "metadata": {}
        }
      ]
    },
    {
      "cell_type": "markdown",
      "source": [
        "# **From the bar chart it is clear that the fligh attendats played a very important role in satisfying the customers**"
      ],
      "metadata": {
        "id": "PkUVm5VjR2n0"
      }
    },
    {
      "cell_type": "markdown",
      "source": [
        "# Now consider Couple Leisure"
      ],
      "metadata": {
        "id": "RpVKSmMwSzfr"
      }
    },
    {
      "cell_type": "code",
      "execution_count": null,
      "metadata": {
        "id": "dDgVH3L_IH1l"
      },
      "outputs": [],
      "source": [
        "rec_counts_Couple_Leisure=df['Airline Name'][(df['Type Of Traveller']=='Couple Leisure') & (df['Recommended']=='yes')].value_counts()"
      ]
    },
    {
      "cell_type": "code",
      "execution_count": null,
      "metadata": {
        "colab": {
          "base_uri": "https://localhost:8080/",
          "height": 406
        },
        "id": "D1QPCmxwIadf",
        "outputId": "6d796017-0ef8-4c54-af33-be59d1874bfa"
      },
      "outputs": [
        {
          "output_type": "display_data",
          "data": {
            "text/plain": [
              "<Figure size 640x480 with 1 Axes>"
            ],
            "image/png": "[encoded data removed]"
          },
          "metadata": {}
        }
      ],
      "source": [
        "plt.pie(rec_counts_Couple_Leisure.head(),labels=rec_counts_Couple_Leisure.head().index,explode=[0.1,0,0,0,0],autopct='%1.1f%%')\n",
        "plt.show()"
      ]
    },
    {
      "cell_type": "markdown",
      "source": [
        "# **Findings**\n",
        "1.Couple Leisure type of travellers are prefering Thomson Airways\n",
        "\n",
        "2.Followed by China Volotea  and Jet2.com"
      ],
      "metadata": {
        "id": "VdW7vZZXSwTL"
      }
    },
    {
      "cell_type": "code",
      "source": [
        "user_positives(df1,'Thomson Airways','Couple Leisure')"
      ],
      "metadata": {
        "colab": {
          "base_uri": "https://localhost:8080/",
          "height": 599
        },
        "id": "7itK9ASuS6UZ",
        "outputId": "f72a739a-ad1b-43f6-a284-a4ac9594c201"
      },
      "execution_count": null,
      "outputs": [
        {
          "output_type": "display_data",
          "data": {
            "text/plain": [
              "<Figure size 1600x700 with 1 Axes>"
            ],
            "image/png": "[encoded data removed]"
          },
          "metadata": {}
        }
      ]
    },
    {
      "cell_type": "markdown",
      "source": [
        "# **From the bar chart it is clear that the leg room, premium economy and cabin crew played a very important role in satisfying the customers of Thomson Airways**"
      ],
      "metadata": {
        "id": "Xa4oFAUMTPaj"
      }
    },
    {
      "cell_type": "code",
      "execution_count": null,
      "metadata": {
        "id": "kHsctRL5Ief6"
      },
      "outputs": [],
      "source": [
        "rec_counts_Business_Leisure=df['Airline Name'][(df['Type Of Traveller']=='Business') & (df['Recommended']=='yes')].value_counts()"
      ]
    },
    {
      "cell_type": "code",
      "execution_count": null,
      "metadata": {
        "colab": {
          "base_uri": "https://localhost:8080/",
          "height": 406
        },
        "id": "4A6cA5ByIreT",
        "outputId": "90788ca7-25b2-4ee4-cd34-57e1593aa805"
      },
      "outputs": [
        {
          "output_type": "display_data",
          "data": {
            "text/plain": [
              "<Figure size 640x480 with 1 Axes>"
            ],
            "image/png": "[encoded data removed]"
          },
          "metadata": {}
        }
      ],
      "source": [
        "plt.pie(rec_counts_Business_Leisure.head(),labels=rec_counts_Business_Leisure.head().index,explode=[0.1,0,0,0,0],autopct='%1.1f%%')\n",
        "plt.show()"
      ]
    },
    {
      "cell_type": "code",
      "execution_count": null,
      "metadata": {
        "id": "lqyo95IOJHd-"
      },
      "outputs": [],
      "source": [
        "rec_counts_Family_Leisure=df['Airline Name'][(df['Type Of Traveller']=='Family Leisure') & (df['Recommended']=='yes')].value_counts()"
      ]
    },
    {
      "cell_type": "code",
      "execution_count": null,
      "metadata": {
        "colab": {
          "base_uri": "https://localhost:8080/",
          "height": 406
        },
        "id": "7GCH4AekJboc",
        "outputId": "1311cc66-6d49-4733-95ac-58e515a71046"
      },
      "outputs": [
        {
          "output_type": "display_data",
          "data": {
            "text/plain": [
              "<Figure size 640x480 with 1 Axes>"
            ],
            "image/png": "[encoded data removed]"
          },
          "metadata": {}
        }
      ],
      "source": [
        "plt.pie(rec_counts_Family_Leisure.head(),labels=rec_counts_Family_Leisure.head().index,explode=[0.1,0,0,0,0],autopct='%1.1f%%')\n",
        "plt.show()"
      ]
    },
    {
      "cell_type": "code",
      "execution_count": null,
      "metadata": {
        "colab": {
          "base_uri": "https://localhost:8080/"
        },
        "id": "C2rUD2pWJfzr",
        "outputId": "da52266d-d0cb-4bc1-c7cd-5d79c22980e4"
      },
      "outputs": [
        {
          "output_type": "execute_result",
          "data": {
            "text/plain": [
              "array(['Economy Class', 'Business Class', 'Premium Economy',\n",
              "       'First Class', nan], dtype=object)"
            ]
          },
          "metadata": {},
          "execution_count": 50
        }
      ],
      "source": [
        "df['Seat Type'].unique()"
      ]
    },
    {
      "cell_type": "code",
      "execution_count": null,
      "metadata": {
        "id": "3zQPRh9eJrLY"
      },
      "outputs": [],
      "source": [
        "rec_for_Economy_class=df['Airline Name'][(df['Seat Type']=='Economy Class')&(df['Recommended']=='yes')].value_counts().head()"
      ]
    },
    {
      "cell_type": "code",
      "execution_count": null,
      "metadata": {
        "colab": {
          "base_uri": "https://localhost:8080/",
          "height": 406
        },
        "id": "reQMkGi8KAMs",
        "outputId": "3f66f319-6288-4d05-9ffd-662c01208df0"
      },
      "outputs": [
        {
          "output_type": "display_data",
          "data": {
            "text/plain": [
              "<Figure size 640x480 with 1 Axes>"
            ],
            "image/png": "[encoded data removed]"
          },
          "metadata": {}
        }
      ],
      "source": [
        "plt.pie(rec_for_Economy_class,labels=rec_for_Economy_class.index,explode=[0.1,0,0,0,0],autopct='%1.1f%%')\n",
        "plt.show()"
      ]
    },
    {
      "cell_type": "code",
      "execution_count": null,
      "metadata": {
        "id": "DbJdDgZ8KDkJ"
      },
      "outputs": [],
      "source": [
        "rec_for_Business_class=df['Airline Name'][(df['Seat Type']=='Business Class')&(df['Recommended']=='yes')].value_counts().head()"
      ]
    },
    {
      "cell_type": "code",
      "execution_count": null,
      "metadata": {
        "colab": {
          "base_uri": "https://localhost:8080/",
          "height": 406
        },
        "id": "6SmqzLCKKpyS",
        "outputId": "6643770f-d732-4b78-f895-6ea178484d04"
      },
      "outputs": [
        {
          "output_type": "display_data",
          "data": {
            "text/plain": [
              "<Figure size 640x480 with 1 Axes>"
            ],
            "image/png": "[encoded data removed]"
          },
          "metadata": {}
        }
      ],
      "source": [
        "plt.pie(rec_for_Business_class,labels=rec_for_Business_class.index,explode=[0.1,0,0,0,0],autopct='%1.1f%%')\n",
        "plt.show()"
      ]
    },
    {
      "cell_type": "code",
      "execution_count": null,
      "metadata": {
        "id": "BfKO4E-oKvDJ"
      },
      "outputs": [],
      "source": [
        "rec_for_Premium_Economy_class=df['Airline Name'][(df['Seat Type']=='Premium Economy')&(df['Recommended']=='yes')].value_counts().head()"
      ]
    },
    {
      "cell_type": "code",
      "execution_count": null,
      "metadata": {
        "colab": {
          "base_uri": "https://localhost:8080/",
          "height": 406
        },
        "id": "bstg61UOK811",
        "outputId": "2c991c5d-8586-4fc8-c040-b8cf27ca12b8"
      },
      "outputs": [
        {
          "output_type": "display_data",
          "data": {
            "text/plain": [
              "<Figure size 640x480 with 1 Axes>"
            ],
            "image/png": "[encoded data removed]"
          },
          "metadata": {}
        }
      ],
      "source": [
        "plt.pie(rec_for_Premium_Economy_class,labels=rec_for_Premium_Economy_class.index,explode=[0.1,0,0,0,0],autopct='%1.1f%%')\n",
        "plt.show()"
      ]
    },
    {
      "cell_type": "code",
      "execution_count": null,
      "metadata": {
        "id": "vesllJoILNbE"
      },
      "outputs": [],
      "source": [
        "rec_for_First_class=df['Airline Name'][(df['Seat Type']=='First Class')&(df['Recommended']=='yes')].value_counts().head()"
      ]
    },
    {
      "cell_type": "code",
      "execution_count": null,
      "metadata": {
        "colab": {
          "base_uri": "https://localhost:8080/",
          "height": 406
        },
        "id": "P8vDQgUzLpxQ",
        "outputId": "06c2e468-4ab3-4564-daae-901420728c39"
      },
      "outputs": [
        {
          "output_type": "display_data",
          "data": {
            "text/plain": [
              "<Figure size 640x480 with 1 Axes>"
            ],
            "image/png": "[encoded data removed]"
          },
          "metadata": {}
        }
      ],
      "source": [
        "plt.pie(rec_for_First_class,labels=rec_for_First_class.index,explode=[0.1,0,0,0,0],autopct='%1.1f%%')\n",
        "plt.show()"
      ]
    },
    {
      "cell_type": "code",
      "execution_count": null,
      "metadata": {
        "id": "QXNzhdStLxDn"
      },
      "outputs": [],
      "source": []
    },
    {
      "cell_type": "markdown",
      "metadata": {
        "id": "jxnQQtGaAf6-"
      },
      "source": [
        "## EDA of Users review"
      ]
    },
    {
      "cell_type": "code",
      "execution_count": null,
      "metadata": {
        "colab": {
          "base_uri": "https://localhost:8080/"
        },
        "id": "j4FwaojSAlKx",
        "outputId": "56b6ed75-c6ba-41e7-82da-5d26e766f16c"
      },
      "outputs": [
        {
          "output_type": "stream",
          "name": "stdout",
          "text": [
            "<class 'pandas.core.frame.DataFrame'>\n",
            "RangeIndex: 19338 entries, 0 to 19337\n",
            "Data columns (total 9 columns):\n",
            " #   Column             Non-Null Count  Dtype \n",
            "---  ------             --------------  ----- \n",
            " 0   Airline Name       19338 non-null  object\n",
            " 1   Overall_Rating     19338 non-null  object\n",
            " 2   Review_Title       19338 non-null  object\n",
            " 3   Review             19338 non-null  object\n",
            " 4   Type Of Traveller  19338 non-null  object\n",
            " 5   Seat Type          19338 non-null  object\n",
            " 6   Recommended        19338 non-null  object\n",
            " 7   From               19338 non-null  object\n",
            " 8   To                 19338 non-null  object\n",
            "dtypes: object(9)\n",
            "memory usage: 1.3+ MB\n"
          ]
        }
      ],
      "source": [
        "df1.info()"
      ]
    },
    {
      "cell_type": "code",
      "execution_count": null,
      "metadata": {
        "colab": {
          "base_uri": "https://localhost:8080/"
        },
        "id": "FZaZw58OLCCT",
        "outputId": "3647af15-7966-4b1b-8aab-8ff50529220f"
      },
      "outputs": [
        {
          "output_type": "stream",
          "name": "stderr",
          "text": [
            "[nltk_data] Downloading package stopwords to /root/nltk_data...\n",
            "[nltk_data]   Unzipping corpora/stopwords.zip.\n",
            "[nltk_data] Downloading package wordnet to /root/nltk_data...\n"
          ]
        }
      ],
      "source": [
        "import nltk,re\n",
        "from nltk.corpus import stopwords\n",
        "nltk.download('stopwords')\n",
        "nltk.download('wordnet')\n",
        "from nltk.stem import WordNetLemmatizer\n",
        "lem=WordNetLemmatizer()"
      ]
    },
    {
      "cell_type": "code",
      "execution_count": null,
      "metadata": {
        "id": "yRyI2O5jAtCJ"
      },
      "outputs": [],
      "source": [
        "def generate_N_grams(text,ngram=1):\n",
        "  text=re.sub('[^a-zA-Z]',' ',text)\n",
        "  text=text.lower()\n",
        "  text=text.split()\n",
        "  words=[lem.lemmatize(word) for word in text if word not in set(stopwords.words('english'))]\n",
        "  temp=zip(*[words[i:] for i in range(0,ngram)])\n",
        "  ans=[' '.join(ngram) for ngram in temp]\n",
        "  return ans"
      ]
    },
    {
      "cell_type": "code",
      "execution_count": null,
      "metadata": {
        "colab": {
          "base_uri": "https://localhost:8080/"
        },
        "id": "ktHWLjmOK-wK",
        "outputId": "b814af3d-bc52-43ad-ee83-d4a2ab8ae178"
      },
      "outputs": [
        {
          "output_type": "stream",
          "name": "stdout",
          "text": [
            "['historical rise', 'rise history', 'history east']\n"
          ]
        }
      ],
      "source": [
        "print(generate_N_grams('The Historical 1998 rises  history the east',2))"
      ]
    },
    {
      "cell_type": "code",
      "execution_count": null,
      "metadata": {
        "id": "WhqKfLrCLUkP"
      },
      "outputs": [],
      "source": [
        "from collections import defaultdict\n",
        "recommended=defaultdict(int)\n",
        "not_recommended=defaultdict(int)"
      ]
    },
    {
      "cell_type": "code",
      "execution_count": null,
      "metadata": {
        "colab": {
          "base_uri": "https://localhost:8080/"
        },
        "id": "hDTf9xhqpDni",
        "outputId": "01ab570d-c217-49b2-d58a-cadd74e494f2"
      },
      "outputs": [
        {
          "output_type": "execute_result",
          "data": {
            "text/plain": [
              "array(['yes', 'no'], dtype=object)"
            ]
          },
          "metadata": {},
          "execution_count": 64
        }
      ],
      "source": [
        "df1['Recommended'].unique()"
      ]
    },
    {
      "cell_type": "markdown",
      "metadata": {
        "id": "YWLps40usmG9"
      },
      "source": [
        "Now we need to find the words which are common and most frequent in negative and positive reviews"
      ]
    },
    {
      "cell_type": "code",
      "execution_count": null,
      "metadata": {
        "id": "GIAOlsK0n5MA"
      },
      "outputs": [],
      "source": [
        "for i in range(len(df1)):\n",
        "  if df1['Recommended'][i]=='yes':\n",
        "    for word in generate_N_grams(df1['Review'][i]):\n",
        "      recommended[word]+=1\n",
        "  else:\n",
        "    for word in generate_N_grams(df1['Review'][i]):\n",
        "      not_recommended[word]+=1\n"
      ]
    },
    {
      "cell_type": "code",
      "execution_count": null,
      "metadata": {
        "id": "ySYGNwjqpy8k"
      },
      "outputs": [],
      "source": [
        "df_recommended=pd.DataFrame(sorted(recommended.items(),key=lambda x:x[1],reverse=True))\n",
        "df_not_recommended=pd.DataFrame(sorted(not_recommended.items(),key=lambda x:x[1],reverse=True))"
      ]
    },
    {
      "cell_type": "code",
      "execution_count": null,
      "metadata": {
        "colab": {
          "base_uri": "https://localhost:8080/",
          "height": 368
        },
        "id": "GO69XvnduRZb",
        "outputId": "f5b139a9-9f6c-4029-9151-ad211a342197"
      },
      "outputs": [
        {
          "output_type": "display_data",
          "data": {
            "text/plain": [
              "<Figure size 1600x400 with 1 Axes>"
            ],
            "image/png": "[encoded data removed]"
          },
          "metadata": {}
        }
      ],
      "source": [
        "plt.figure(1,figsize=(16,4))\n",
        "plt.bar(df_recommended[0][:10],df_recommended[1][:10],color='green')\n",
        "plt.show()"
      ]
    },
    {
      "cell_type": "code",
      "execution_count": null,
      "metadata": {
        "colab": {
          "base_uri": "https://localhost:8080/",
          "height": 368
        },
        "id": "RWL4sKLqu1Yu",
        "outputId": "aad9887b-4e35-44e3-aced-fcbde117e88e"
      },
      "outputs": [
        {
          "output_type": "display_data",
          "data": {
            "text/plain": [
              "<Figure size 1600x400 with 1 Axes>"
            ],
            "image/png": "[encoded data removed]"
          },
          "metadata": {}
        }
      ],
      "source": [
        "plt.figure(1,figsize=(16,4))\n",
        "plt.bar(df_not_recommended[0][:10],df_not_recommended[1][:10],color='red')\n",
        "plt.show()"
      ]
    },
    {
      "cell_type": "code",
      "execution_count": null,
      "metadata": {
        "id": "DnpytXwZvHf5"
      },
      "outputs": [],
      "source": [
        "recommended2=defaultdict(int)\n",
        "not_recommended2=defaultdict(int)"
      ]
    },
    {
      "cell_type": "code",
      "execution_count": null,
      "metadata": {
        "id": "m9ZDdutnv-E3"
      },
      "outputs": [],
      "source": [
        "for i in range(len(df1)):\n",
        "  if df1['Recommended'][i]=='yes':\n",
        "    for word in generate_N_grams(df1['Review'][i],2):\n",
        "      recommended2[word]+=1\n",
        "  else:\n",
        "    for word in generate_N_grams(df1['Review'][i],2):\n",
        "      not_recommended2[word]+=1"
      ]
    },
    {
      "cell_type": "code",
      "execution_count": null,
      "metadata": {
        "colab": {
          "base_uri": "https://localhost:8080/"
        },
        "id": "evinE7WVwGRN",
        "outputId": "535bb3b4-27f8-4068-a8c5-0db22d0facbb"
      },
      "outputs": [
        {
          "output_type": "execute_result",
          "data": {
            "text/plain": [
              "defaultdict(int,\n",
              "            {'moroni moheli': 1,\n",
              "             'moheli turned': 1,\n",
              "             'turned pretty': 1,\n",
              "             'pretty decent': 10,\n",
              "             'decent airline': 12,\n",
              "             'airline online': 3,\n",
              "             'online booking': 28,\n",
              "             'booking worked': 1,\n",
              "             'worked well': 39,\n",
              "             'well checkin': 1,\n",
              "             'checkin boarding': 3,\n",
              "             'boarding fine': 8,\n",
              "             'fine plane': 1,\n",
              "             'plane looked': 14,\n",
              "             'looked well': 5,\n",
              "             'well maintained': 61,\n",
              "             'maintained short': 1,\n",
              "             'short flight': 329,\n",
              "             'flight minute': 51,\n",
              "             'minute expect': 2,\n",
              "             'expect much': 27,\n",
              "             'much still': 2,\n",
              "             'still managed': 11,\n",
              "             'managed hand': 2,\n",
              "             'hand bottle': 1,\n",
              "             'bottle water': 99,\n",
              "             'water biscuit': 2,\n",
              "             'biscuit though': 1,\n",
              "             'though nice': 3,\n",
              "             'nice flight': 82,\n",
              "             'flight time': 532,\n",
              "             'ljubljana munich': 1,\n",
              "             'munich homebase': 1,\n",
              "             'homebase airport': 1,\n",
              "             'airport adria': 1,\n",
              "             'adria airway': 12,\n",
              "             'airway ljubljana': 3,\n",
              "             'ljubljana small': 1,\n",
              "             'small relaxing': 1,\n",
              "             'relaxing convenient': 1,\n",
              "             'convenient surrounded': 1,\n",
              "             'surrounded alp': 1,\n",
              "             'alp departure': 1,\n",
              "             'departure fantastic': 1,\n",
              "             'fantastic airplane': 1,\n",
              "             'airplane modern': 2,\n",
              "             'modern crew': 1,\n",
              "             'crew nice': 89,\n",
              "             'nice ontime': 1,\n",
              "             'ontime departure': 3,\n",
              "             'departure drink': 11,\n",
              "             'drink without': 2,\n",
              "             'without alcohol': 1,\n",
              "             'alcohol free': 5,\n",
              "             'free paid': 2,\n",
              "             'paid white': 1,\n",
              "             'white wine': 12,\n",
              "             'wine considering': 1,\n",
              "             'considering cheap': 2,\n",
              "             'cheap ticket': 21,\n",
              "             'ticket cannot': 2,\n",
              "             'cannot complain': 7,\n",
              "             'complain upgrade': 1,\n",
              "             'upgrade would': 3,\n",
              "             'would available': 2,\n",
              "             'available includes': 1,\n",
              "             'includes lounge': 1,\n",
              "             'frankfurt ljubljana': 1,\n",
              "             'ljubljana flight': 1,\n",
              "             'flight comfortable': 59,\n",
              "             'comfortable professional': 1,\n",
              "             'professional crew': 16,\n",
              "             'crew monitor': 1,\n",
              "             'monitor passenger': 2,\n",
              "             'passenger provide': 1,\n",
              "             'provide information': 1,\n",
              "             'information flight': 17,\n",
              "             'flight speed': 2,\n",
              "             'speed altitude': 1,\n",
              "             'altitude temperature': 1,\n",
              "             'temperature time': 2,\n",
              "             'time landing': 7,\n",
              "             'landing etc': 1,\n",
              "             'two nice': 3,\n",
              "             'nice short': 9,\n",
              "             'flight ljubljana': 2,\n",
              "             'ljubljana sarajevo': 1,\n",
              "             'sarajevo back': 1,\n",
              "             'back first': 3,\n",
              "             'first flight': 129,\n",
              "             'flight adria': 6,\n",
              "             'adria flight': 1,\n",
              "             'flight back': 83,\n",
              "             'back adria': 1,\n",
              "             'adria switzerland': 4,\n",
              "             'switzerland flight': 1,\n",
              "             'flight sarajevo': 1,\n",
              "             'sarajevo delayed': 1,\n",
              "             'delayed due': 37,\n",
              "             'due fog': 7,\n",
              "             'fog sarajevo': 1,\n",
              "             'sarajevo adria': 1,\n",
              "             'adria quickly': 1,\n",
              "             'quickly changed': 1,\n",
              "             'changed aircraft': 4,\n",
              "             'aircraft possible': 1,\n",
              "             'possible land': 1,\n",
              "             'land foggy': 1,\n",
              "             'foggy weather': 1,\n",
              "             'weather crj': 1,\n",
              "             'crj instead': 2,\n",
              "             'instead atr': 2,\n",
              "             'atr product': 1,\n",
              "             'product depends': 1,\n",
              "             'depends weather': 1,\n",
              "             'weather adria': 1,\n",
              "             'adria adria': 1,\n",
              "             'switzerland adria': 1,\n",
              "             'adria snack': 1,\n",
              "             'snack water': 22,\n",
              "             'water buy': 3,\n",
              "             'buy board': 18,\n",
              "             'board product': 4,\n",
              "             'product adria': 1,\n",
              "             'switzerland snack': 1,\n",
              "             'water tea': 19,\n",
              "             'tea coffee': 90,\n",
              "             'coffee without': 2,\n",
              "             'without buy': 1,\n",
              "             'board personally': 1,\n",
              "             'personally prefer': 1,\n",
              "             'prefer second': 1,\n",
              "             'second option': 2,\n",
              "             'option adria': 1,\n",
              "             'switzerland provided': 1,\n",
              "             'provided nicer': 1,\n",
              "             'nicer cosier': 1,\n",
              "             'cosier atmosphere': 1,\n",
              "             'atmosphere board': 1,\n",
              "             'board somehow': 1,\n",
              "             'somehow kind': 1,\n",
              "             'kind premium': 1,\n",
              "             'premium product': 4,\n",
              "             'product compare': 1,\n",
              "             'compare adria': 1,\n",
              "             'adria mainline': 1,\n",
              "             'ljubljana zurich': 2,\n",
              "             'zurich april': 1,\n",
              "             'april th': 11,\n",
              "             'th adria': 1,\n",
              "             'airway become': 1,\n",
              "             'become recent': 1,\n",
              "             'recent year': 7,\n",
              "             'year reliable': 1,\n",
              "             'reliable airline': 6,\n",
              "             'airline use': 9,\n",
              "             'use flight': 8,\n",
              "             'flight remember': 4,\n",
              "             'remember delay': 2,\n",
              "             'delay fly': 1,\n",
              "             'fly month': 2,\n",
              "             'month flight': 2,\n",
              "             'flight attendant': 736,\n",
              "             'attendant professionel': 1,\n",
              "             'professionel food': 1,\n",
              "             'food drink': 223,\n",
              "             'drink except': 3,\n",
              "             'except water': 2,\n",
              "             'water purchased': 2,\n",
              "             'purchased sandwich': 1,\n",
              "             'sandwich tasty': 5,\n",
              "             'tasty wine': 2,\n",
              "             'wine choice': 2,\n",
              "             'choice could': 4,\n",
              "             'could better': 40,\n",
              "             'better newspaper': 1,\n",
              "             'newspaper available': 1,\n",
              "             'available free': 4,\n",
              "             'free mostly': 1,\n",
              "             'mostly slovenian': 1,\n",
              "             'slovenian language': 1,\n",
              "             'language seat': 1,\n",
              "             'seat pitch': 113,\n",
              "             'pitch emergency': 1,\n",
              "             'emergency exit': 54,\n",
              "             'exit international': 1,\n",
              "             'international standard': 3,\n",
              "             'standard safety': 1,\n",
              "             'safety seems': 1,\n",
              "             'seems nr': 1,\n",
              "             'nr aim': 1,\n",
              "             'aim one': 1,\n",
              "             'one rare': 1,\n",
              "             'rare airline': 3,\n",
              "             'airline extra': 2,\n",
              "             'extra safety': 1,\n",
              "             'safety instruction': 8,\n",
              "             'instruction passenger': 1,\n",
              "             'passenger seated': 7,\n",
              "             'seated emergency': 3,\n",
              "             'exit seat': 42,\n",
              "             'seat inflight': 7,\n",
              "             'inflight magazine': 28,\n",
              "             'magazine available': 1,\n",
              "             'available online': 2,\n",
              "             'online printed': 2,\n",
              "             'printed necessarily': 1,\n",
              "             'necessarily exciting': 1,\n",
              "             'exciting solid': 1,\n",
              "             'solid reliable': 3,\n",
              "             'reliable product': 2,\n",
              "             'product recommend': 1,\n",
              "             'ljubljana vienna': 2,\n",
              "             'vienna fast': 1,\n",
              "             'fast boarding': 9,\n",
              "             'boarding procedure': 20,\n",
              "             'procedure plane': 1,\n",
              "             'plane took': 20,\n",
              "             'took time': 57,\n",
              "             'time seat': 50,\n",
              "             'seat quite': 62,\n",
              "             'quite comfortable': 57,\n",
              "             'comfortable although': 8,\n",
              "             'although cabin': 4,\n",
              "             'cabin looked': 9,\n",
              "             'looked bit': 7,\n",
              "             'bit nagged': 1,\n",
              "             'nagged despite': 1,\n",
              "             'despite fact': 10,\n",
              "             'fact regional': 1,\n",
              "             'regional flight': 19,\n",
              "             'airway offered': 1,\n",
              "             'offered wifi': 1,\n",
              "             'wifi service': 5,\n",
              "             'service good': 184,\n",
              "             'good connection': 6,\n",
              "             'connection ife': 1,\n",
              "             'ife system': 22,\n",
              "             'system free': 2,\n",
              "             'free chat': 1,\n",
              "             'chat function': 1,\n",
              "             'function amongst': 1,\n",
              "             'amongst passenger': 3,\n",
              "             'passenger friendly': 5,\n",
              "             'friendly crew': 55,\n",
              "             'crew welcomed': 8,\n",
              "             'welcomed passenger': 1,\n",
              "             'passenger onboard': 8,\n",
              "             'onboard started': 1,\n",
              "             'started service': 2,\n",
              "             'service pretty': 8,\n",
              "             'pretty impressive': 2,\n",
              "             'impressive minute': 1,\n",
              "             'minute flight': 114,\n",
              "             'flight business': 13,\n",
              "             'business meal': 2,\n",
              "             'meal tasted': 3,\n",
              "             'tasted great': 4,\n",
              "             'great landed': 2,\n",
              "             'landed punctually': 1,\n",
              "             'punctually vienna': 1,\n",
              "             'two short': 7,\n",
              "             'vienna back': 1,\n",
              "             'back time': 11,\n",
              "             'time crj': 1,\n",
              "             'crj aircraft': 1,\n",
              "             'aircraft new': 41,\n",
              "             'new cabin': 22,\n",
              "             'cabin fresh': 4,\n",
              "             'fresh seat': 5,\n",
              "             'seat comfortable': 423,\n",
              "             'comfortable flight': 75,\n",
              "             'flight welcome': 3,\n",
              "             'welcome flight': 5,\n",
              "             'flight deck': 27,\n",
              "             'deck information': 1,\n",
              "             'flight take': 23,\n",
              "             'take cabin': 9,\n",
              "             'cabin crew': 1282,\n",
              "             'crew polite': 68,\n",
              "             'polite professional': 26,\n",
              "             'professional overall': 4,\n",
              "             'overall nice': 15,\n",
              "             'nice comfortable': 12,\n",
              "             'boarded crj': 1,\n",
              "             'crj flight': 3,\n",
              "             'flight seat': 76,\n",
              "             'seat table': 7,\n",
              "             'table pre': 1,\n",
              "             'pre flight': 22,\n",
              "             'flight snack': 20,\n",
              "             'water juice': 22,\n",
              "             'juice great': 1,\n",
              "             'great surprise': 2,\n",
              "             'surprise arrive': 1,\n",
              "             'arrive seat': 1,\n",
              "             'seat loved': 2,\n",
              "             'loved although': 1,\n",
              "             'although meal': 3,\n",
              "             'meal best': 3,\n",
              "             'best good': 3,\n",
              "             'good wine': 9,\n",
              "             'wine good': 9,\n",
              "             'good first': 6,\n",
              "             'first row': 25,\n",
              "             'row spacious': 1,\n",
              "             'spacious lot': 2,\n",
              "             'lot legroom': 24,\n",
              "             'legroom always': 1,\n",
              "             'always guaranteed': 2,\n",
              "             'guaranteed bulkhead': 1,\n",
              "             'bulkhead find': 1,\n",
              "             'find new': 2,\n",
              "             'new generation': 1,\n",
              "             'generation crj': 1,\n",
              "             'crj plane': 1,\n",
              "             'plane comfy': 4,\n",
              "             'comfy big': 1,\n",
              "             'big window': 3,\n",
              "             'window pleased': 1,\n",
              "             'pleased whole': 2,\n",
              "             'whole flight': 37,\n",
              "             'booked flight': 71,\n",
              "             'flight many': 15,\n",
              "             'many year': 28,\n",
              "             'year using': 2,\n",
              "             'using easyjet': 1,\n",
              "             'easyjet got': 2,\n",
              "             'got flight': 11,\n",
              "             'flight reasonable': 8,\n",
              "             'reasonable price': 38,\n",
              "             'price actually': 2,\n",
              "             'actually cheaper': 1,\n",
              "             'cheaper easyjet': 2,\n",
              "             'easyjet flight': 2,\n",
              "             'flight outbound': 7,\n",
              "             'outbound inbound': 10,\n",
              "             'inbound ok': 1,\n",
              "             'ok although': 7,\n",
              "             'although departing': 1,\n",
              "             'departing slightly': 1,\n",
              "             'slightly late': 13,\n",
              "             'late arrived': 21,\n",
              "             'arrived pretty': 2,\n",
              "             'pretty close': 2,\n",
              "             'close scheduled': 1,\n",
              "             'scheduled time': 33,\n",
              "             'time outbound': 5,\n",
              "             'outbound landing': 1,\n",
              "             'landing ljubljana': 1,\n",
              "             'ljubljana bit': 1,\n",
              "             'bit rough': 2,\n",
              "             'rough staff': 1,\n",
              "             'staff pleasant': 33,\n",
              "             'pleasant enough': 12,\n",
              "             'enough served': 1,\n",
              "             'served complementary': 2,\n",
              "             'complementary water': 2,\n",
              "             'water small': 4,\n",
              "             'small selection': 10,\n",
              "             'selection food': 43,\n",
              "             'drink sale': 6,\n",
              "             'sale advertised': 1,\n",
              "             'advertised item': 1,\n",
              "             'item available': 5,\n",
              "             'available seating': 1,\n",
              "             'seating bit': 3,\n",
              "             'bit cramped': 22,\n",
              "             'cramped even': 2,\n",
              "             'even le': 7,\n",
              "             'le leg': 3,\n",
              "             'leg room': 325,\n",
              "             'room easyjet': 1,\n",
              "             'easyjet kness': 1,\n",
              "             'kness toching': 1,\n",
              "             'toching seat': 1,\n",
              "             'seat front': 65,\n",
              "             'front crushed': 1,\n",
              "             'crushed person': 1,\n",
              "             'person front': 9,\n",
              "             'front moving': 1,\n",
              "             'moving person': 1,\n",
              "             'person behind': 2,\n",
              "             'behind digging': 1,\n",
              "             'digging knee': 1,\n",
              "             'knee back': 1,\n",
              "             'back thay': 1,\n",
              "             'thay wer': 1,\n",
              "             'wer oviosly': 1,\n",
              "             'oviosly struggling': 1,\n",
              "             'struggling room': 1,\n",
              "             'room much': 3,\n",
              "             'much cramped': 1,\n",
              "             'cramped previous': 1,\n",
              "             'previous time': 1,\n",
              "             'time flew': 34,\n",
              "             'flew adria': 1,\n",
              "             'adria year': 1,\n",
              "             'year ago': 51,\n",
              "             'tallinn stockholm': 1,\n",
              "             'stockholm adria': 1,\n",
              "             'airway clean': 3,\n",
              "             'clean fresh': 15,\n",
              "             'fresh aircraft': 1,\n",
              "             'aircraft nordica': 1,\n",
              "             'nordica livery': 1,\n",
              "             'livery pleasant': 1,\n",
              "             'pleasant boarding': 6,\n",
              "             'boarding staff': 11,\n",
              "             'staff clear': 2,\n",
              "             'clear announcement': 9,\n",
              "             'announcement fa': 2,\n",
              "             'fa cockpit': 1,\n",
              "             'cockpit informative': 1,\n",
              "             'informative innovative': 1,\n",
              "             'innovative approach': 1,\n",
              "             'approach meal': 1,\n",
              "             'meal service': 124,\n",
              "             'service selection': 4,\n",
              "             'selection make': 1,\n",
              "             'make sandwich': 1,\n",
              "             'sandwich fresh': 3,\n",
              "             'fresh euro': 1,\n",
              "             'euro coffee': 1,\n",
              "             'coffee tea': 55,\n",
              "             'tea water': 13,\n",
              "             'water complimentary': 4,\n",
              "             'complimentary flight': 2,\n",
              "             'flight slightly': 27,\n",
              "             'slightly delayed': 38,\n",
              "             'delayed technical': 2,\n",
              "             'technical overhaul': 1,\n",
              "             'flew roundtrip': 1,\n",
              "             'roundtrip short': 1,\n",
              "             'short route': 7,\n",
              "             'route zurich': 1,\n",
              "             'zurich ljubljana': 1,\n",
              "             'ljubljana adria': 1,\n",
              "             'airway time': 5,\n",
              "             'time departure': 79,\n",
              "             'departure arrival': 67,\n",
              "             'arrival time': 46,\n",
              "             'time turbulence': 2,\n",
              "             'turbulence splendid': 1,\n",
              "             'splendid view': 1,\n",
              "             'view alp': 1,\n",
              "             'alp time': 1,\n",
              "             'time location': 2,\n",
              "             'location bus': 1,\n",
              "             'bus trip': 1,\n",
              "             'trip aircraft': 6,\n",
              "             'aircraft located': 1,\n",
              "             'located gate': 1,\n",
              "             'gate flight': 12,\n",
              "             'flight announcement': 10,\n",
              "             'announcement slovenian': 1,\n",
              "             'slovenian passable': 1,\n",
              "             'passable english': 1,\n",
              "             'english small': 1,\n",
              "             'small glass': 6,\n",
              "             'glass water': 20,\n",
              "             'water served': 15,\n",
              "             'served everything': 1,\n",
              "             'everything else': 25,\n",
              "             'else cola': 1,\n",
              "             'cola candy': 1,\n",
              "             'candy croissant': 1,\n",
              "             'croissant available': 1,\n",
              "             'available purchase': 16,\n",
              "             'purchase able': 1,\n",
              "             'able select': 6,\n",
              "             'select seat': 14,\n",
              "             'seat advance': 4,\n",
              "             'advance luggage': 1,\n",
              "             'luggage left': 3,\n",
              "             'left staircase': 1,\n",
              "             'staircase available': 1,\n",
              "             'available retrieval': 1,\n",
              "             'retrieval bottom': 1,\n",
              "             'bottom stair': 1,\n",
              "             'stair arrival': 1,\n",
              "             'arrival ticket': 1,\n",
              "             'ticket gate': 1,\n",
              "             'gate agent': 27,\n",
              "             'agent polite': 2,\n",
              "             'polite spoke': 3,\n",
              "             'spoke excellent': 4,\n",
              "             'excellent english': 7,\n",
              "             'english airline': 3,\n",
              "             'airline job': 3,\n",
              "             'job got': 2,\n",
              "             'got destination': 7,\n",
              "             'destination time': 10,\n",
              "             'time impressive': 2,\n",
              "             'impressive efficient': 1,\n",
              "             'efficient small': 1,\n",
              "             'small airline': 20,\n",
              "             'airline made': 10,\n",
              "             'made journey': 11,\n",
              "             'journey pleasant': 6,\n",
              "             'zurich munich': 1,\n",
              "             'munich ljubljana': 1,\n",
              "             'ljubljana time': 1,\n",
              "             'time aircraft': 29,\n",
              "             'cabin bright': 2,\n",
              "             'bright clean': 2,\n",
              "             'clean nice': 12,\n",
              "             'nice professional': 9,\n",
              "             'professional service': 17,\n",
              "             'service flight': 112,\n",
              "             'flight morning': 9,\n",
              "             'morning flight': 71,\n",
              "             'ljubljana take': 1,\n",
              "             'take free': 2,\n",
              "             'free newspaper': 2,\n",
              "             'newspaper said': 1,\n",
              "             'said sleep': 1,\n",
              "             'sleep chief': 1,\n",
              "             'chief flight': 1,\n",
              "             'attendant take': 6,\n",
              "             'take brought': 1,\n",
              "             'brought pillow': 1,\n",
              "             'pillow comfortable': 1,\n",
              "             'comfortable sleep': 7,\n",
              "             'sleep nice': 2,\n",
              "             'nice touch': 57,\n",
              "             'lodz paris': 1,\n",
              "             'paris cdg': 30,\n",
              "             'cdg munich': 1,\n",
              "             'munich lodz': 1,\n",
              "             'lodz adria': 1,\n",
              "             'airway decent': 1,\n",
              "             'decent service': 7,\n",
              "             'service short': 18,\n",
              "             'short hop': 41,\n",
              "             'hop like': 2,\n",
              "             'like took': 1,\n",
              "             'took small': 3,\n",
              "             'small cramped': 3,\n",
              "             'cramped cabin': 2,\n",
              "             'cabin clean': 74,\n",
              "             'clean crj': 1,\n",
              "             'flight lcj': 1,\n",
              "             'lcj cdg': 1,\n",
              "             'cdg nearly': 1,\n",
              "             'nearly empty': 2,\n",
              "             'empty felt': 1,\n",
              "             'felt like': 27,\n",
              "             'like private': 3,\n",
              "             'private jet': 5,\n",
              "             'jet muc': 1,\n",
              "             'muc lcj': 1,\n",
              "             'lcj load': 1,\n",
              "             'load factor': 6,\n",
              "             'factor check': 1,\n",
              "             'check via': 12,\n",
              "             'via internet': 4,\n",
              "             'internet option': 1,\n",
              "             'option select': 4,\n",
              "             'seat without': 12,\n",
              "             'without problem': 21,\n",
              "             'problem flight': 18,\n",
              "             'time cabin': 63,\n",
              "             'cabin staff': 148,\n",
              "             'staff rather': 2,\n",
              "             'rather absent': 1,\n",
              "             'absent served': 1,\n",
              "             'served glass': 8,\n",
              "             'water free': 13,\n",
              "             'free although': 3,\n",
              "             'although informed': 1,\n",
              "             'informed possibility': 1,\n",
              "             'possibility connect': 3,\n",
              "             'connect board': 1,\n",
              "             'board wi': 6,\n",
              "             'wi fi': 94,\n",
              "             'fi manage': 1,\n",
              "             'manage expect': 1,\n",
              "             'expect star': 2,\n",
              "             'star service': 13,\n",
              "             'service adria': 1,\n",
              "             'adria good': 1,\n",
              "             'good option': 13,\n",
              "             'option quick': 1,\n",
              "             'quick expensive': 1,\n",
              "             'expensive flight': 7,\n",
              "             'airway year': 3,\n",
              "             'year flight': 9,\n",
              "             'flight usually': 8,\n",
              "             'usually time': 2,\n",
              "             'time new': 12,\n",
              "             'new aircraft': 57,\n",
              "             'aircraft clean': 130,\n",
              "             'clean bright': 3,\n",
              "             'bright cabin': 5,\n",
              "             'cabin cabin': 11,\n",
              "             'crew member': 101,\n",
              "             'member nice': 8,\n",
              "             'professional fine': 1,\n",
              "             'fine know': 2,\n",
              "             'know happened': 1,\n",
              "             'happened last': 1,\n",
              "             'last month': 14,\n",
              "             'month according': 1,\n",
              "             'according last': 1,\n",
              "             'last flight': 35,\n",
              "             'flight experience': 97,\n",
              "             'experience right': 1,\n",
              "             'right direction': 1,\n",
              "             'direction flight': 3,\n",
              "             'flight moscow': 10,\n",
              "             'moscow experienced': 1,\n",
              "             'experienced cabin': 2,\n",
              "             'crew getting': 1,\n",
              "             'getting gloomy': 1,\n",
              "             'gloomy flight': 1,\n",
              "             'flight svo': 1,\n",
              "             'svo even': 1,\n",
              "             'even gloomier': 1,\n",
              "             'gloomier flight': 1,\n",
              "             'back lju': 1,\n",
              "             'lju smile': 1,\n",
              "             'smile robotic': 1,\n",
              "             'robotic interested': 1,\n",
              "             'interested passenger': 1,\n",
              "             'passenger comfort': 2,\n",
              "             'comfort well': 2,\n",
              "             'well end': 1,\n",
              "             'end day': 4,\n",
              "             'day real': 1,\n",
              "             'real difference': 1,\n",
              "             'difference crew': 2,\n",
              "             'crew attitude': 5,\n",
              "             'flew business': 18,\n",
              "             'business class': 850,\n",
              "             'class adria': 1,\n",
              "             'airway short': 2,\n",
              "             'flight h': 6,\n",
              "             'h skp': 1,\n",
              "             'skp lju': 1,\n",
              "             'lju friendly': 1,\n",
              "             'friendly helpful': 152,\n",
              "             'helpful staff': 24,\n",
              "             'staff excellent': 26,\n",
              "             'excellent business': 11,\n",
              "             'class service': 36,\n",
              "             'service including': 11,\n",
              "             'including hot': 4,\n",
              "             'hot meal': 123,\n",
              "             'meal warm': 1,\n",
              "             'warm bread': 7,\n",
              "             'bread cheese': 3,\n",
              "             'cheese marmalade': 1,\n",
              "             'marmalade better': 1,\n",
              "             'better lh': 2,\n",
              "             'lh business': 2,\n",
              "             'flight arrived': 78,\n",
              "             'arrived minute': 62,\n",
              "             'minute sta': 1,\n",
              "             'sta good': 1,\n",
              "             'good job': 39,\n",
              "             'job information': 1,\n",
              "             'information route': 2,\n",
              "             'route weather': 6,\n",
              "             'weather connection': 1,\n",
              "             'connection given': 1,\n",
              "             'given captain': 1,\n",
              "             'captain legroom': 1,\n",
              "             'legroom row': 4,\n",
              "             'row good': 5,\n",
              "             'good nice': 11,\n",
              "             'nice seat': 14,\n",
              "             'seat highly': 1,\n",
              "             'highly recommended': 43,\n",
              "             'recommended small': 1,\n",
              "             'small functional': 1,\n",
              "             'functional airline': 1,\n",
              "             'airway price': 3,\n",
              "             'price regular': 1,\n",
              "             'regular airline': 3,\n",
              "             'airline service': 40,\n",
              "             'service low': 8,\n",
              "             'low cost': 347,\n",
              "             'cost airline': 157,\n",
              "             'airline beverage': 2,\n",
              "             'beverage food': 8,\n",
              "             'food purchase': 8,\n",
              "             'purchase seat': 3,\n",
              "             'seat fine': 25,\n",
              "             'fine staff': 5,\n",
              "             'staff friendly': 243,\n",
              "             'friendly since': 1,\n",
              "             'since usually': 3,\n",
              "             'usually travel': 7,\n",
              "             'travel early': 1,\n",
              "             'early morning': 73,\n",
              "             'morning late': 2,\n",
              "             'late evening': 11,\n",
              "             'evening use': 1,\n",
              "             'flight rest': 3,\n",
              "             'rest every': 1,\n",
              "             'every time': 35,\n",
              "             'time ask': 3,\n",
              "             'ask pillow': 1,\n",
              "             'pillow get': 1,\n",
              "             'get one': 12,\n",
              "             'one might': 1,\n",
              "             'might sound': 1,\n",
              "             'sound strange': 1,\n",
              "             'strange important': 1,\n",
              "             'important u': 1,\n",
              "             'excellent flight': 82,\n",
              "             'flight way': 23,\n",
              "             'way adria': 1,\n",
              "             'airway manchester': 2,\n",
              "             'manchester ljubljana': 1,\n",
              "             'ljubljana staff': 1,\n",
              "             'friendly unobtrusive': 1,\n",
              "             'unobtrusive leg': 1,\n",
              "             'room far': 2,\n",
              "             'far better': 28,\n",
              "             'better economy': 8,\n",
              "             'economy flight': 35,\n",
              "             'seat comfy': 29,\n",
              "             'comfy plenty': 4,\n",
              "             'plenty storage': 6,\n",
              "             'storage space': 26,\n",
              "             'space flight': 10,\n",
              "             'time quick': 12,\n",
              "             'quick efficient': 50,\n",
              "             'efficient boarding': 21,\n",
              "             'boarding disembarking': 10,\n",
              "             'disembarking smooth': 1,\n",
              "             'smooth take': 13,\n",
              "             'take offs': 4,\n",
              "             'offs landing': 3,\n",
              "             'landing pleasant': 2,\n",
              "             'pleasant experience': 98,\n",
              "             'poor customer': 4,\n",
              "             'customer service': 295,\n",
              "             'service travelling': 3,\n",
              "             'travelling baby': 2,\n",
              "             'baby paid': 1,\n",
              "             'paid front': 1,\n",
              "             'front row': 22,\n",
              "             'row wanted': 3,\n",
              "             'wanted add': 1,\n",
              "             'add extra': 3,\n",
              "             'extra seat': 10,\n",
              "             'seat daughter': 1,\n",
              "             'daughter everything': 1,\n",
              "             'everything started': 1,\n",
              "             'started asked': 1,\n",
              "             'asked want': 6,\n",
              "             'want seat': 2,\n",
              "             'seat said': 2,\n",
              "             'said yes': 6,\n",
              "             'yes put': 1,\n",
              "             'put month': 1,\n",
              "             'month old': 18,\n",
              "             'old baby': 7,\n",
              "             'baby different': 1,\n",
              "             'different seat': 5,\n",
              "             'seat asked': 5,\n",
              "             'asked obviously': 1,\n",
              "             'obviously need': 1,\n",
              "             'need together': 1,\n",
              "             'together moved': 1,\n",
              "             'moved row': 3,\n",
              "             'row find': 2,\n",
              "             'find flight': 8,\n",
              "             'flight give': 4,\n",
              "             'give seat': 3,\n",
              "             'seat excuse': 1,\n",
              "             'excuse baby': 1,\n",
              "             'baby asked': 1,\n",
              "             'asked send': 1,\n",
              "             'send email': 8,\n",
              "             'email somewhere': 1,\n",
              "             'somewhere else': 4,\n",
              "             'else wanted': 2,\n",
              "             'wanted take': 4,\n",
              "             'take back': 3,\n",
              "             'back money': 1,\n",
              "             'money insisted': 1,\n",
              "             'insisted crazy': 1,\n",
              "             'crazy said': 1,\n",
              "             'said ok': 3,\n",
              "             'ok refund': 1,\n",
              "             'refund send': 1,\n",
              "             'email nothing': 1,\n",
              "             'nothing received': 1,\n",
              "             'received really': 1,\n",
              "             'really know': 2,\n",
              "             'passenger delayed': 1,\n",
              "             'delayed aegean': 1,\n",
              "             'aegean airline': 17,\n",
              "             'airline flight': 94,\n",
              "             'flight stuck': 1,\n",
              "             'stuck santorini': 1,\n",
              "             'santorini would': 1,\n",
              "             'would like': 140,\n",
              "             'like thank': 54,\n",
              "             'thank employee': 2,\n",
              "             'employee aegean': 1,\n",
              "             'airline company': 11,\n",
              "             'company thessaloniki': 1,\n",
              "             'thessaloniki markati': 1,\n",
              "             'markati non': 1,\n",
              "             'non formal': 1,\n",
              "             'formal attitude': 1,\n",
              "             'attitude patience': 1,\n",
              "             'patience professionalism': 1,\n",
              "             'professionalism combination': 1,\n",
              "             'combination quality': 1,\n",
              "             'quality rare': 1,\n",
              "             'rare modern': 1,\n",
              "             'modern life': 1,\n",
              "             'life wholeheartedly': 1,\n",
              "             'wholeheartedly thank': 1,\n",
              "             'thank wonderful': 6,\n",
              "             'wonderful girl': 1,\n",
              "             'girl person': 1,\n",
              "             'person company': 1,\n",
              "             'company helped': 1,\n",
              "             'helped u': 41,\n",
              "             'u difficult': 1,\n",
              "             'difficult situation': 11,\n",
              "             'boarding munich': 1,\n",
              "             'munich rush': 1,\n",
              "             'rush however': 1,\n",
              "             'however business': 2,\n",
              "             'class passenger': 75,\n",
              "             'passenger receive': 1,\n",
              "             'receive welcome': 1,\n",
              "             'welcome drink': 28,\n",
              "             'drink greek': 1,\n",
              "             'greek sparkling': 1,\n",
              "             'sparkling wine': 13,\n",
              "             'wine water': 2,\n",
              "             'water lunch': 1,\n",
              "             'lunch several': 2,\n",
              "             'several option': 3,\n",
              "             'option choice': 1,\n",
              "             'choice red': 3,\n",
              "             'red white': 11,\n",
              "             'white greek': 1,\n",
              "             'greek wine': 2,\n",
              "             'wine food': 4,\n",
              "             'food bad': 22,\n",
              "             'bad decent': 1,\n",
              "             'decent information': 1,\n",
              "             'flight given': 12,\n",
              "             'given fa': 2,\n",
              "             'fa courteous': 3,\n",
              "             'courteous helpful': 15,\n",
              "             'helpful one': 3,\n",
              "             'one better': 7,\n",
              "             'better business': 11,\n",
              "             'business product': 4,\n",
              "             'product europe': 1,\n",
              "             'europe sure': 2,\n",
              "             'sure luggage': 3,\n",
              "             'luggage quite': 2,\n",
              "             'quite delivered': 1,\n",
              "             'delivered priority': 1,\n",
              "             'priority despite': 1,\n",
              "             'despite labelled': 1,\n",
              "             'booked month': 1,\n",
              "             'month advance': 9,\n",
              "             'advance opted': 1,\n",
              "             'opted comfortflex': 1,\n",
              "             'comfortflex fare': 2,\n",
              "             'fare included': 3,\n",
              "             'included baggage': 2,\n",
              "             'baggage onboard': 3,\n",
              "             'onboard wifi': 6,\n",
              "             'wifi access': 5,\n",
              "             'access upfront': 1,\n",
              "             'upfront seat': 1,\n",
              "             'seat selection': 31,\n",
              "             'selection chose': 1,\n",
              "             'chose seat': 6,\n",
              "             'seat right': 3,\n",
              "             'right front': 5,\n",
              "             'front economy': 4,\n",
              "             'economy cabin': 27,\n",
              "             'cabin time': 5,\n",
              "             'time booking': 12,\n",
              "             'booking allowing': 1,\n",
              "             'allowing party': 1,\n",
              "             'party sit': 1,\n",
              "             'sit together': 10,\n",
              "             'together booking': 1,\n",
              "             'booking aircraft': 1,\n",
              "             'aircraft advertised': 1,\n",
              "             'advertised new': 1,\n",
              "             'new neo': 11,\n",
              "             'neo free': 1,\n",
              "             'free wifi': 35,\n",
              "             'wifi however': 1,\n",
              "             'however checking': 3,\n",
              "             'checking online': 9,\n",
              "             'online aircraft': 1,\n",
              "             'aircraft changed': 6,\n",
              "             'changed subsequently': 1,\n",
              "             'subsequently seat': 1,\n",
              "             'seat changed': 5,\n",
              "             'changed splitting': 1,\n",
              "             'splitting party': 1,\n",
              "             'party flight': 1,\n",
              "             'comfortable decent': 5,\n",
              "             'decent leg': 8,\n",
              "             'room free': 3,\n",
              "             'free food': 27,\n",
              "             'drink though': 1,\n",
              "             'though quality': 1,\n",
              "             'quality lacklustre': 1,\n",
              "             'lacklustre crew': 1,\n",
              "             'crew absent': 1,\n",
              "             'absent form': 1,\n",
              "             'form engagement': 1,\n",
              "             'engagement board': 1,\n",
              "             'board appearing': 1,\n",
              "             'appearing distant': 1,\n",
              "             'wife flew': 18,\n",
              "             'flew aegean': 1,\n",
              "             'airline first': 31,\n",
              "             'first time': 346,\n",
              "             'time june': 3,\n",
              "             'june two': 1,\n",
              "             'flight consisting': 3,\n",
              "             'consisting sophia': 1,\n",
              "             'sophia bulgaria': 1,\n",
              "             'bulgaria athens': 1,\n",
              "             'athens athens': 1,\n",
              "             'athens larnaca': 1,\n",
              "             'larnaca cyprus': 1,\n",
              "             'cyprus flight': 1,\n",
              "             'flight exceptional': 2,\n",
              "             'exceptional flight': 6,\n",
              "             'flight smooth': 89,\n",
              "             'smooth seat': 10,\n",
              "             'comfortable cabin': 39,\n",
              "             'cabin service': 99,\n",
              "             'service outstanding': 13,\n",
              "             'outstanding received': 1,\n",
              "             'received snack': 1,\n",
              "             'snack light': 2,\n",
              "             'light meal': 23,\n",
              "             'meal flight': 49,\n",
              "             'flight delicious': 5,\n",
              "             'delicious first': 1,\n",
              "             'flight included': 11,\n",
              "             'included small': 5,\n",
              "             'small sandwich': 10,\n",
              "             'sandwich roll': 1,\n",
              "             'roll sliced': 1,\n",
              "             'sliced chicken': 1,\n",
              "             'chicken cheese': 1,\n",
              "             'cheese second': 1,\n",
              "             'second flight': 32,\n",
              "             'included pasta': 1,\n",
              "             'pasta salad': 5,\n",
              "             'salad tuna': 1,\n",
              "             'tuna dressing': 1,\n",
              "             'dressing enjoyed': 1,\n",
              "             'enjoyed every': 1,\n",
              "             'every bite': 1,\n",
              "             'bite leaving': 1,\n",
              "             'leaving plane': 4,\n",
              "             'plane larnaca': 1,\n",
              "             'larnaca commented': 1,\n",
              "             'commented cabin': 1,\n",
              "             'staff exit': 1,\n",
              "             'exit plane': 1,\n",
              "             'plane aegean': 1,\n",
              "             'airline new': 16,\n",
              "             'new favorite': 3,\n",
              "             'favorite airline': 11,\n",
              "             'airline opted': 2,\n",
              "             'opted give': 1,\n",
              "             'give airline': 8,\n",
              "             'airline rating': 1,\n",
              "             'rating instead': 1,\n",
              "             'instead due': 2,\n",
              "             'due two': 1,\n",
              "             'two item': 4,\n",
              "             'item flight': 6,\n",
              "             'flight short': 35,\n",
              "             'flight longer': 11,\n",
              "             'longer test': 1,\n",
              "             'test airline': 2,\n",
              "             'service would': 30,\n",
              "             'would given': 5,\n",
              "             'given maximum': 1,\n",
              "             'maximum rating': 1,\n",
              "             'rating also': 1,\n",
              "             'also aegean': 1,\n",
              "             'aegean website': 2,\n",
              "             ...})"
            ]
          },
          "metadata": {},
          "execution_count": 71
        }
      ],
      "source": [
        "df_recommended2=pd.DataFrame(sorted(recommended2.items(),key=lambda x:x[1],reverse=True))\n",
        "df_not_recommended2=pd.DataFrame(sorted(not_recommended2.items(),key=lambda x:x[1],reverse=True))\n",
        "recommended2\n"
      ]
    },
    {
      "cell_type": "code",
      "execution_count": null,
      "metadata": {
        "colab": {
          "base_uri": "https://localhost:8080/",
          "height": 599
        },
        "id": "vrJeezQRx_ct",
        "outputId": "254d96d4-e0dc-4a09-ba46-4c095e99b8a6"
      },
      "outputs": [
        {
          "output_type": "display_data",
          "data": {
            "text/plain": [
              "<Figure size 1600x700 with 1 Axes>"
            ],
            "image/png": "[encoded data removed]"
          },
          "metadata": {}
        }
      ],
      "source": [
        "plt.figure(figsize=(16,7))\n",
        "plt.bar(df_recommended2[0][:10],df_recommended2[1][:10],color='green')\n",
        "plt.show()"
      ]
    },
    {
      "cell_type": "code",
      "execution_count": null,
      "metadata": {
        "colab": {
          "base_uri": "https://localhost:8080/",
          "height": 599
        },
        "id": "vGD4NYFWyUj2",
        "outputId": "e130f2d4-a69f-4836-fff1-460d929515a3"
      },
      "outputs": [
        {
          "output_type": "display_data",
          "data": {
            "text/plain": [
              "<Figure size 1600x700 with 1 Axes>"
            ],
            "image/png": "[encoded data removed]"
          },
          "metadata": {}
        }
      ],
      "source": [
        "plt.figure(figsize=(16,7))\n",
        "plt.bar(df_not_recommended2[0][1:11],df_not_recommended2[1][1:11],color='red')\n",
        "plt.show()"
      ]
    },
    {
      "cell_type": "code",
      "execution_count": null,
      "metadata": {
        "id": "TPFuJUdsyxFl"
      },
      "outputs": [],
      "source": [
        "from_=list(df1['From'].unique())\n",
        "to=list(df1['To'].unique())"
      ]
    },
    {
      "cell_type": "code",
      "execution_count": null,
      "metadata": {
        "colab": {
          "base_uri": "https://localhost:8080/"
        },
        "id": "tFGBYNAkCy5M",
        "outputId": "331da3bb-d005-4283-abf8-c3d7c28dc1f3"
      },
      "outputs": [
        {
          "output_type": "stream",
          "name": "stdout",
          "text": [
            "<class 'pandas.core.frame.DataFrame'>\n",
            "RangeIndex: 19338 entries, 0 to 19337\n",
            "Data columns (total 9 columns):\n",
            " #   Column             Non-Null Count  Dtype \n",
            "---  ------             --------------  ----- \n",
            " 0   Airline Name       19338 non-null  object\n",
            " 1   Overall_Rating     19338 non-null  object\n",
            " 2   Review_Title       19338 non-null  object\n",
            " 3   Review             19338 non-null  object\n",
            " 4   Type Of Traveller  19338 non-null  object\n",
            " 5   Seat Type          19338 non-null  object\n",
            " 6   Recommended        19338 non-null  object\n",
            " 7   From               19338 non-null  object\n",
            " 8   To                 19338 non-null  object\n",
            "dtypes: object(9)\n",
            "memory usage: 1.3+ MB\n"
          ]
        }
      ],
      "source": [
        "df1.info()"
      ]
    },
    {
      "cell_type": "code",
      "execution_count": null,
      "metadata": {
        "id": "UYcx2XU7C3xQ"
      },
      "outputs": [],
      "source": [
        "recommended3=defaultdict(int)\n",
        "not_recommended3=defaultdict(int)"
      ]
    },
    {
      "cell_type": "code",
      "execution_count": null,
      "metadata": {
        "id": "Bue011hBC7Er"
      },
      "outputs": [],
      "source": [
        "for i in range(len(df1)):\n",
        "  if df1['Recommended'][i]=='yes':\n",
        "    for word in generate_N_grams(df1['Review'][i],3):\n",
        "      recommended3[word]+=1\n",
        "  else:\n",
        "    for word in generate_N_grams(df1['Review'][i],3):\n",
        "      not_recommended3[word]+=1"
      ]
    },
    {
      "cell_type": "code",
      "execution_count": null,
      "metadata": {
        "id": "LYEV-TEGDbZR"
      },
      "outputs": [],
      "source": [
        "df_recommended3=pd.DataFrame(sorted(recommended3.items(),key=lambda x:x[1],reverse=True))\n",
        "df_not_recommended3=pd.DataFrame(sorted(not_recommended3.items(),key=lambda x:x[1],reverse=True))\n"
      ]
    },
    {
      "cell_type": "code",
      "execution_count": null,
      "metadata": {
        "id": "85jR8nUsDi5j",
        "colab": {
          "base_uri": "https://localhost:8080/",
          "height": 599
        },
        "outputId": "c67964c3-46c1-4506-d830-6506d5fe7988"
      },
      "outputs": [
        {
          "output_type": "display_data",
          "data": {
            "text/plain": [
              "<Figure size 2000x700 with 1 Axes>"
            ],
            "image/png": "[encoded data removed]"
          },
          "metadata": {}
        }
      ],
      "source": [
        "plt.figure(figsize=(20,7))\n",
        "plt.bar(df_recommended3[0][:10],df_recommended3[1][:10],color='green')\n",
        "plt.show()"
      ]
    },
    {
      "cell_type": "markdown",
      "source": [
        "# Findings\n",
        "1. Customers are happy with the low cost, friendly cabin crew, business class seat etc."
      ],
      "metadata": {
        "id": "_D6yvrRAxKVQ"
      }
    },
    {
      "cell_type": "code",
      "execution_count": null,
      "metadata": {
        "id": "g5JX9wDODpKY",
        "colab": {
          "base_uri": "https://localhost:8080/",
          "height": 527
        },
        "outputId": "fefd86d1-316b-4179-a53b-2c21686a3bdb"
      },
      "outputs": [
        {
          "output_type": "display_data",
          "data": {
            "text/plain": [
              "<Figure size 2600x700 with 1 Axes>"
            ],
            "image/png": "[encoded data removed]"
          },
          "metadata": {}
        }
      ],
      "source": [
        "plt.figure(figsize=(26,7))\n",
        "plt.bar(df_not_recommended3[0][1:11],df_not_recommended3[1][1:11],color='red')\n",
        "plt.show()"
      ]
    },
    {
      "cell_type": "markdown",
      "source": [
        "# Findings\n",
        "1. Airline company need to work on the delay in flight time, customer service to make the customers happy"
      ],
      "metadata": {
        "id": "-aJsPIHJxXmt"
      }
    },
    {
      "cell_type": "code",
      "source": [],
      "metadata": {
        "id": "FRXt15LdMaLI"
      },
      "execution_count": null,
      "outputs": []
    }
  ],
  "metadata": {
    "colab": {
      "provenance": [],
      "mount_file_id": "1y5iEx5PLtwlwUUf_-t6_FKrdqjEMKW8C",
      "authorship_tag": "ABX9TyNf3woBzcn0+u8aLOxbYvzr"
    },
    "kernelspec": {
      "display_name": "Python 3",
      "name": "python3"
    },
    "language_info": {
      "name": "python"
    }
  },
  "nbformat": 4,
  "nbformat_minor": 0
}